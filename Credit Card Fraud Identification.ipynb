{
 "cells": [
  {
   "cell_type": "markdown",
   "metadata": {
    "ExecuteTime": {
     "end_time": "2020-03-17T14:39:06.628670Z",
     "start_time": "2020-03-17T14:39:06.566300Z"
    }
   },
   "source": [
    "# 1.0 Credit Card Fraud Identification\n",
    "\n",
    "## Defining the question\n",
    "\n",
    "### Specifying the Question\n",
    "\n",
    "Enable credit card companies to recognize fraudulent credit card transactions so that customers are not charged for items that they did not purchase.\n",
    "\n",
    "### Metric for success\n",
    "- Accurate identification of 95% of fraudulent transactions before they are authorized\n",
    "- Precision metric. Proposed as response label is imbalanced\n",
    "\n",
    "### Understanding the context\n",
    "\n",
    "Year in year out, we have heard of horror stories of bank and credit customer's money lost through credit fraud. This has been a paid to both banking and credit insititutions as well as customers.\n",
    "\n",
    "Despite massive investments by insititutions in systems and customer education, credit card fraud still continues as fraudsters are able to change their patterns to avoid rule based systems detection. Therebeing, supervised methods of fraud detection are ill suited as patterns change over time. We therefore propose to use unsupervised which will proactively detect outliers from the norm which will most probably be the fraudlent transactions.\n",
    "\n",
    "### Data Source\n",
    "Data sourced from Kaggle https://www.kaggle.com/mlg-ulb/creditcardfraud\n",
    "\n",
    "The datasets contains transactions made by credit cards in September 2013 by european cardholders.\n",
    "This dataset presents transactions that occurred in two days, where we have 492 frauds out of 284,807 \n",
    "transactions. The dataset is highly unbalanced, the positive class (frauds) account for 0.172% of all \n",
    "transactions.\n",
    "\n",
    "It contains only numerical input variables which are the result of a PCA transformation. \n",
    "Unfortunately, due to confidentiality issues, the original features and more background about the data are not provided \n",
    "Features V1, V2, … V28 are the principal components obtained with PCA, the only features which have not been transformed with PCA are:\n",
    "- 'Time' contains the seconds elapsed between each transaction and the first transaction in the dataset\n",
    "- 'Amount' is the transaction Amount, this feature can be used for example-dependant cost-senstive learning. \n",
    "- 'Class' is the response variable and it takes value 1 in case of fraud and 0 otherwise.\n",
    "\n",
    "### Recording the experimental design\n",
    "\n",
    "CRISP- DM methodology will be applied. Below steps will be undertaken to create the classifer.\n",
    "\n",
    "- Business understanding - understanding the background\n",
    "- Data understanding \n",
    "- Exploratory data analysis\n",
    "- Feature engineering\n",
    "- Data modelling\n",
    "- Model interpretation\n",
    "\n",
    "### Data relevance\n",
    "\n",
    "### Risks\n",
    "- Lack of acceptance of the model by business team due to lack of explainability in detection logic.\n",
    "Mitigation: To give cost savings benefits will outweigh explainability risk.\n",
    "\n",
    "### Constraints\n",
    "- Due to confidentiality, original features and more background information about the data are not provided \n",
    "- Insufficient data - only 2 days of fraud\n",
    "- Outdated data - collected in 2013. \n",
    "\n",
    "### Assumptions\n",
    "- Currency is in euros\n",
    "- Data is valid"
   ]
  },
  {
   "cell_type": "markdown",
   "metadata": {},
   "source": [
    "## Libraries Importation"
   ]
  },
  {
   "cell_type": "code",
   "execution_count": 118,
   "metadata": {
    "ExecuteTime": {
     "end_time": "2020-03-26T09:36:49.185974Z",
     "start_time": "2020-03-26T09:36:49.172182Z"
    },
    "collapsed": true
   },
   "outputs": [],
   "source": [
    "#Data Manipulation Libraries\n",
    "import numpy as np # linear algebra\n",
    "import pandas as pd # data processing, CSV file I/O (e.g. pd.read_csv)\n",
    "\n",
    "#Visualization\n",
    "import matplotlib.pyplot as plt\n",
    "%matplotlib inline \n",
    "import seaborn as sns\n",
    "\n",
    "#Modelling\n",
    "from sklearn.cluster import KMeans #For creating clusters\n",
    "from sklearn.metrics import confusion_matrix\n",
    "from sklearn.metrics import confusion_matrix, precision_score, recall_score, accuracy_score,f1_score,classification_report\n",
    "from sklearn.model_selection import train_test_split\n",
    "from sklearn.preprocessing import normalize\n",
    "from sklearn.ensemble import IsolationForest\n",
    "from sklearn.neighbors import LocalOutlierFactor\n",
    "\n",
    "import warnings\n",
    "warnings.filterwarnings(\"ignore\")"
   ]
  },
  {
   "cell_type": "code",
   "execution_count": 51,
   "metadata": {
    "ExecuteTime": {
     "end_time": "2020-03-26T07:49:22.816730Z",
     "start_time": "2020-03-26T07:49:22.809647Z"
    },
    "collapsed": true
   },
   "outputs": [],
   "source": [
    "# Improving visual appearance of graphs\n",
    "sns.set(rc={'figure.figsize':(13, 10)})\n",
    "\n",
    "# Ensure all columns are displayed\n",
    "pd.pandas.set_option('display.max_columns', None)"
   ]
  },
  {
   "cell_type": "markdown",
   "metadata": {
    "ExecuteTime": {
     "end_time": "2020-03-17T14:41:43.240655Z",
     "start_time": "2020-03-17T14:41:43.237168Z"
    }
   },
   "source": [
    "## Import data"
   ]
  },
  {
   "cell_type": "code",
   "execution_count": 3,
   "metadata": {
    "ExecuteTime": {
     "end_time": "2020-03-25T18:48:31.383139Z",
     "start_time": "2020-03-25T18:48:29.688046Z"
    },
    "collapsed": true
   },
   "outputs": [],
   "source": [
    "df = pd.read_csv(\"creditcard.csv\")"
   ]
  },
  {
   "cell_type": "markdown",
   "metadata": {},
   "source": [
    "#### Observe 10 sample records"
   ]
  },
  {
   "cell_type": "code",
   "execution_count": 4,
   "metadata": {
    "ExecuteTime": {
     "end_time": "2020-03-25T18:48:31.482325Z",
     "start_time": "2020-03-25T18:48:31.384901Z"
    }
   },
   "outputs": [
    {
     "data": {
      "text/html": [
       "<div>\n",
       "<style scoped>\n",
       "    .dataframe tbody tr th:only-of-type {\n",
       "        vertical-align: middle;\n",
       "    }\n",
       "\n",
       "    .dataframe tbody tr th {\n",
       "        vertical-align: top;\n",
       "    }\n",
       "\n",
       "    .dataframe thead th {\n",
       "        text-align: right;\n",
       "    }\n",
       "</style>\n",
       "<table border=\"1\" class=\"dataframe\">\n",
       "  <thead>\n",
       "    <tr style=\"text-align: right;\">\n",
       "      <th></th>\n",
       "      <th>Time</th>\n",
       "      <th>V1</th>\n",
       "      <th>V2</th>\n",
       "      <th>V3</th>\n",
       "      <th>V4</th>\n",
       "      <th>V5</th>\n",
       "      <th>V6</th>\n",
       "      <th>V7</th>\n",
       "      <th>V8</th>\n",
       "      <th>V9</th>\n",
       "      <th>V10</th>\n",
       "      <th>V11</th>\n",
       "      <th>V12</th>\n",
       "      <th>V13</th>\n",
       "      <th>V14</th>\n",
       "      <th>V15</th>\n",
       "      <th>V16</th>\n",
       "      <th>V17</th>\n",
       "      <th>V18</th>\n",
       "      <th>V19</th>\n",
       "      <th>V20</th>\n",
       "      <th>V21</th>\n",
       "      <th>V22</th>\n",
       "      <th>V23</th>\n",
       "      <th>V24</th>\n",
       "      <th>V25</th>\n",
       "      <th>V26</th>\n",
       "      <th>V27</th>\n",
       "      <th>V28</th>\n",
       "      <th>Amount</th>\n",
       "      <th>Class</th>\n",
       "    </tr>\n",
       "  </thead>\n",
       "  <tbody>\n",
       "    <tr>\n",
       "      <th>0</th>\n",
       "      <td>0.0</td>\n",
       "      <td>-1.359807</td>\n",
       "      <td>-0.072781</td>\n",
       "      <td>2.536347</td>\n",
       "      <td>1.378155</td>\n",
       "      <td>-0.338321</td>\n",
       "      <td>0.462388</td>\n",
       "      <td>0.239599</td>\n",
       "      <td>0.098698</td>\n",
       "      <td>0.363787</td>\n",
       "      <td>0.090794</td>\n",
       "      <td>-0.551600</td>\n",
       "      <td>-0.617801</td>\n",
       "      <td>-0.991390</td>\n",
       "      <td>-0.311169</td>\n",
       "      <td>1.468177</td>\n",
       "      <td>-0.470401</td>\n",
       "      <td>0.207971</td>\n",
       "      <td>0.025791</td>\n",
       "      <td>0.403993</td>\n",
       "      <td>0.251412</td>\n",
       "      <td>-0.018307</td>\n",
       "      <td>0.277838</td>\n",
       "      <td>-0.110474</td>\n",
       "      <td>0.066928</td>\n",
       "      <td>0.128539</td>\n",
       "      <td>-0.189115</td>\n",
       "      <td>0.133558</td>\n",
       "      <td>-0.021053</td>\n",
       "      <td>149.62</td>\n",
       "      <td>0</td>\n",
       "    </tr>\n",
       "    <tr>\n",
       "      <th>1</th>\n",
       "      <td>0.0</td>\n",
       "      <td>1.191857</td>\n",
       "      <td>0.266151</td>\n",
       "      <td>0.166480</td>\n",
       "      <td>0.448154</td>\n",
       "      <td>0.060018</td>\n",
       "      <td>-0.082361</td>\n",
       "      <td>-0.078803</td>\n",
       "      <td>0.085102</td>\n",
       "      <td>-0.255425</td>\n",
       "      <td>-0.166974</td>\n",
       "      <td>1.612727</td>\n",
       "      <td>1.065235</td>\n",
       "      <td>0.489095</td>\n",
       "      <td>-0.143772</td>\n",
       "      <td>0.635558</td>\n",
       "      <td>0.463917</td>\n",
       "      <td>-0.114805</td>\n",
       "      <td>-0.183361</td>\n",
       "      <td>-0.145783</td>\n",
       "      <td>-0.069083</td>\n",
       "      <td>-0.225775</td>\n",
       "      <td>-0.638672</td>\n",
       "      <td>0.101288</td>\n",
       "      <td>-0.339846</td>\n",
       "      <td>0.167170</td>\n",
       "      <td>0.125895</td>\n",
       "      <td>-0.008983</td>\n",
       "      <td>0.014724</td>\n",
       "      <td>2.69</td>\n",
       "      <td>0</td>\n",
       "    </tr>\n",
       "    <tr>\n",
       "      <th>2</th>\n",
       "      <td>1.0</td>\n",
       "      <td>-1.358354</td>\n",
       "      <td>-1.340163</td>\n",
       "      <td>1.773209</td>\n",
       "      <td>0.379780</td>\n",
       "      <td>-0.503198</td>\n",
       "      <td>1.800499</td>\n",
       "      <td>0.791461</td>\n",
       "      <td>0.247676</td>\n",
       "      <td>-1.514654</td>\n",
       "      <td>0.207643</td>\n",
       "      <td>0.624501</td>\n",
       "      <td>0.066084</td>\n",
       "      <td>0.717293</td>\n",
       "      <td>-0.165946</td>\n",
       "      <td>2.345865</td>\n",
       "      <td>-2.890083</td>\n",
       "      <td>1.109969</td>\n",
       "      <td>-0.121359</td>\n",
       "      <td>-2.261857</td>\n",
       "      <td>0.524980</td>\n",
       "      <td>0.247998</td>\n",
       "      <td>0.771679</td>\n",
       "      <td>0.909412</td>\n",
       "      <td>-0.689281</td>\n",
       "      <td>-0.327642</td>\n",
       "      <td>-0.139097</td>\n",
       "      <td>-0.055353</td>\n",
       "      <td>-0.059752</td>\n",
       "      <td>378.66</td>\n",
       "      <td>0</td>\n",
       "    </tr>\n",
       "    <tr>\n",
       "      <th>3</th>\n",
       "      <td>1.0</td>\n",
       "      <td>-0.966272</td>\n",
       "      <td>-0.185226</td>\n",
       "      <td>1.792993</td>\n",
       "      <td>-0.863291</td>\n",
       "      <td>-0.010309</td>\n",
       "      <td>1.247203</td>\n",
       "      <td>0.237609</td>\n",
       "      <td>0.377436</td>\n",
       "      <td>-1.387024</td>\n",
       "      <td>-0.054952</td>\n",
       "      <td>-0.226487</td>\n",
       "      <td>0.178228</td>\n",
       "      <td>0.507757</td>\n",
       "      <td>-0.287924</td>\n",
       "      <td>-0.631418</td>\n",
       "      <td>-1.059647</td>\n",
       "      <td>-0.684093</td>\n",
       "      <td>1.965775</td>\n",
       "      <td>-1.232622</td>\n",
       "      <td>-0.208038</td>\n",
       "      <td>-0.108300</td>\n",
       "      <td>0.005274</td>\n",
       "      <td>-0.190321</td>\n",
       "      <td>-1.175575</td>\n",
       "      <td>0.647376</td>\n",
       "      <td>-0.221929</td>\n",
       "      <td>0.062723</td>\n",
       "      <td>0.061458</td>\n",
       "      <td>123.50</td>\n",
       "      <td>0</td>\n",
       "    </tr>\n",
       "    <tr>\n",
       "      <th>4</th>\n",
       "      <td>2.0</td>\n",
       "      <td>-1.158233</td>\n",
       "      <td>0.877737</td>\n",
       "      <td>1.548718</td>\n",
       "      <td>0.403034</td>\n",
       "      <td>-0.407193</td>\n",
       "      <td>0.095921</td>\n",
       "      <td>0.592941</td>\n",
       "      <td>-0.270533</td>\n",
       "      <td>0.817739</td>\n",
       "      <td>0.753074</td>\n",
       "      <td>-0.822843</td>\n",
       "      <td>0.538196</td>\n",
       "      <td>1.345852</td>\n",
       "      <td>-1.119670</td>\n",
       "      <td>0.175121</td>\n",
       "      <td>-0.451449</td>\n",
       "      <td>-0.237033</td>\n",
       "      <td>-0.038195</td>\n",
       "      <td>0.803487</td>\n",
       "      <td>0.408542</td>\n",
       "      <td>-0.009431</td>\n",
       "      <td>0.798278</td>\n",
       "      <td>-0.137458</td>\n",
       "      <td>0.141267</td>\n",
       "      <td>-0.206010</td>\n",
       "      <td>0.502292</td>\n",
       "      <td>0.219422</td>\n",
       "      <td>0.215153</td>\n",
       "      <td>69.99</td>\n",
       "      <td>0</td>\n",
       "    </tr>\n",
       "    <tr>\n",
       "      <th>...</th>\n",
       "      <td>...</td>\n",
       "      <td>...</td>\n",
       "      <td>...</td>\n",
       "      <td>...</td>\n",
       "      <td>...</td>\n",
       "      <td>...</td>\n",
       "      <td>...</td>\n",
       "      <td>...</td>\n",
       "      <td>...</td>\n",
       "      <td>...</td>\n",
       "      <td>...</td>\n",
       "      <td>...</td>\n",
       "      <td>...</td>\n",
       "      <td>...</td>\n",
       "      <td>...</td>\n",
       "      <td>...</td>\n",
       "      <td>...</td>\n",
       "      <td>...</td>\n",
       "      <td>...</td>\n",
       "      <td>...</td>\n",
       "      <td>...</td>\n",
       "      <td>...</td>\n",
       "      <td>...</td>\n",
       "      <td>...</td>\n",
       "      <td>...</td>\n",
       "      <td>...</td>\n",
       "      <td>...</td>\n",
       "      <td>...</td>\n",
       "      <td>...</td>\n",
       "      <td>...</td>\n",
       "      <td>...</td>\n",
       "    </tr>\n",
       "    <tr>\n",
       "      <th>284802</th>\n",
       "      <td>172786.0</td>\n",
       "      <td>-11.881118</td>\n",
       "      <td>10.071785</td>\n",
       "      <td>-9.834783</td>\n",
       "      <td>-2.066656</td>\n",
       "      <td>-5.364473</td>\n",
       "      <td>-2.606837</td>\n",
       "      <td>-4.918215</td>\n",
       "      <td>7.305334</td>\n",
       "      <td>1.914428</td>\n",
       "      <td>4.356170</td>\n",
       "      <td>-1.593105</td>\n",
       "      <td>2.711941</td>\n",
       "      <td>-0.689256</td>\n",
       "      <td>4.626942</td>\n",
       "      <td>-0.924459</td>\n",
       "      <td>1.107641</td>\n",
       "      <td>1.991691</td>\n",
       "      <td>0.510632</td>\n",
       "      <td>-0.682920</td>\n",
       "      <td>1.475829</td>\n",
       "      <td>0.213454</td>\n",
       "      <td>0.111864</td>\n",
       "      <td>1.014480</td>\n",
       "      <td>-0.509348</td>\n",
       "      <td>1.436807</td>\n",
       "      <td>0.250034</td>\n",
       "      <td>0.943651</td>\n",
       "      <td>0.823731</td>\n",
       "      <td>0.77</td>\n",
       "      <td>0</td>\n",
       "    </tr>\n",
       "    <tr>\n",
       "      <th>284803</th>\n",
       "      <td>172787.0</td>\n",
       "      <td>-0.732789</td>\n",
       "      <td>-0.055080</td>\n",
       "      <td>2.035030</td>\n",
       "      <td>-0.738589</td>\n",
       "      <td>0.868229</td>\n",
       "      <td>1.058415</td>\n",
       "      <td>0.024330</td>\n",
       "      <td>0.294869</td>\n",
       "      <td>0.584800</td>\n",
       "      <td>-0.975926</td>\n",
       "      <td>-0.150189</td>\n",
       "      <td>0.915802</td>\n",
       "      <td>1.214756</td>\n",
       "      <td>-0.675143</td>\n",
       "      <td>1.164931</td>\n",
       "      <td>-0.711757</td>\n",
       "      <td>-0.025693</td>\n",
       "      <td>-1.221179</td>\n",
       "      <td>-1.545556</td>\n",
       "      <td>0.059616</td>\n",
       "      <td>0.214205</td>\n",
       "      <td>0.924384</td>\n",
       "      <td>0.012463</td>\n",
       "      <td>-1.016226</td>\n",
       "      <td>-0.606624</td>\n",
       "      <td>-0.395255</td>\n",
       "      <td>0.068472</td>\n",
       "      <td>-0.053527</td>\n",
       "      <td>24.79</td>\n",
       "      <td>0</td>\n",
       "    </tr>\n",
       "    <tr>\n",
       "      <th>284804</th>\n",
       "      <td>172788.0</td>\n",
       "      <td>1.919565</td>\n",
       "      <td>-0.301254</td>\n",
       "      <td>-3.249640</td>\n",
       "      <td>-0.557828</td>\n",
       "      <td>2.630515</td>\n",
       "      <td>3.031260</td>\n",
       "      <td>-0.296827</td>\n",
       "      <td>0.708417</td>\n",
       "      <td>0.432454</td>\n",
       "      <td>-0.484782</td>\n",
       "      <td>0.411614</td>\n",
       "      <td>0.063119</td>\n",
       "      <td>-0.183699</td>\n",
       "      <td>-0.510602</td>\n",
       "      <td>1.329284</td>\n",
       "      <td>0.140716</td>\n",
       "      <td>0.313502</td>\n",
       "      <td>0.395652</td>\n",
       "      <td>-0.577252</td>\n",
       "      <td>0.001396</td>\n",
       "      <td>0.232045</td>\n",
       "      <td>0.578229</td>\n",
       "      <td>-0.037501</td>\n",
       "      <td>0.640134</td>\n",
       "      <td>0.265745</td>\n",
       "      <td>-0.087371</td>\n",
       "      <td>0.004455</td>\n",
       "      <td>-0.026561</td>\n",
       "      <td>67.88</td>\n",
       "      <td>0</td>\n",
       "    </tr>\n",
       "    <tr>\n",
       "      <th>284805</th>\n",
       "      <td>172788.0</td>\n",
       "      <td>-0.240440</td>\n",
       "      <td>0.530483</td>\n",
       "      <td>0.702510</td>\n",
       "      <td>0.689799</td>\n",
       "      <td>-0.377961</td>\n",
       "      <td>0.623708</td>\n",
       "      <td>-0.686180</td>\n",
       "      <td>0.679145</td>\n",
       "      <td>0.392087</td>\n",
       "      <td>-0.399126</td>\n",
       "      <td>-1.933849</td>\n",
       "      <td>-0.962886</td>\n",
       "      <td>-1.042082</td>\n",
       "      <td>0.449624</td>\n",
       "      <td>1.962563</td>\n",
       "      <td>-0.608577</td>\n",
       "      <td>0.509928</td>\n",
       "      <td>1.113981</td>\n",
       "      <td>2.897849</td>\n",
       "      <td>0.127434</td>\n",
       "      <td>0.265245</td>\n",
       "      <td>0.800049</td>\n",
       "      <td>-0.163298</td>\n",
       "      <td>0.123205</td>\n",
       "      <td>-0.569159</td>\n",
       "      <td>0.546668</td>\n",
       "      <td>0.108821</td>\n",
       "      <td>0.104533</td>\n",
       "      <td>10.00</td>\n",
       "      <td>0</td>\n",
       "    </tr>\n",
       "    <tr>\n",
       "      <th>284806</th>\n",
       "      <td>172792.0</td>\n",
       "      <td>-0.533413</td>\n",
       "      <td>-0.189733</td>\n",
       "      <td>0.703337</td>\n",
       "      <td>-0.506271</td>\n",
       "      <td>-0.012546</td>\n",
       "      <td>-0.649617</td>\n",
       "      <td>1.577006</td>\n",
       "      <td>-0.414650</td>\n",
       "      <td>0.486180</td>\n",
       "      <td>-0.915427</td>\n",
       "      <td>-1.040458</td>\n",
       "      <td>-0.031513</td>\n",
       "      <td>-0.188093</td>\n",
       "      <td>-0.084316</td>\n",
       "      <td>0.041333</td>\n",
       "      <td>-0.302620</td>\n",
       "      <td>-0.660377</td>\n",
       "      <td>0.167430</td>\n",
       "      <td>-0.256117</td>\n",
       "      <td>0.382948</td>\n",
       "      <td>0.261057</td>\n",
       "      <td>0.643078</td>\n",
       "      <td>0.376777</td>\n",
       "      <td>0.008797</td>\n",
       "      <td>-0.473649</td>\n",
       "      <td>-0.818267</td>\n",
       "      <td>-0.002415</td>\n",
       "      <td>0.013649</td>\n",
       "      <td>217.00</td>\n",
       "      <td>0</td>\n",
       "    </tr>\n",
       "  </tbody>\n",
       "</table>\n",
       "<p>284807 rows × 31 columns</p>\n",
       "</div>"
      ],
      "text/plain": [
       "            Time         V1         V2        V3        V4        V5  \\\n",
       "0            0.0  -1.359807  -0.072781  2.536347  1.378155 -0.338321   \n",
       "1            0.0   1.191857   0.266151  0.166480  0.448154  0.060018   \n",
       "2            1.0  -1.358354  -1.340163  1.773209  0.379780 -0.503198   \n",
       "3            1.0  -0.966272  -0.185226  1.792993 -0.863291 -0.010309   \n",
       "4            2.0  -1.158233   0.877737  1.548718  0.403034 -0.407193   \n",
       "...          ...        ...        ...       ...       ...       ...   \n",
       "284802  172786.0 -11.881118  10.071785 -9.834783 -2.066656 -5.364473   \n",
       "284803  172787.0  -0.732789  -0.055080  2.035030 -0.738589  0.868229   \n",
       "284804  172788.0   1.919565  -0.301254 -3.249640 -0.557828  2.630515   \n",
       "284805  172788.0  -0.240440   0.530483  0.702510  0.689799 -0.377961   \n",
       "284806  172792.0  -0.533413  -0.189733  0.703337 -0.506271 -0.012546   \n",
       "\n",
       "              V6        V7        V8        V9       V10       V11       V12  \\\n",
       "0       0.462388  0.239599  0.098698  0.363787  0.090794 -0.551600 -0.617801   \n",
       "1      -0.082361 -0.078803  0.085102 -0.255425 -0.166974  1.612727  1.065235   \n",
       "2       1.800499  0.791461  0.247676 -1.514654  0.207643  0.624501  0.066084   \n",
       "3       1.247203  0.237609  0.377436 -1.387024 -0.054952 -0.226487  0.178228   \n",
       "4       0.095921  0.592941 -0.270533  0.817739  0.753074 -0.822843  0.538196   \n",
       "...          ...       ...       ...       ...       ...       ...       ...   \n",
       "284802 -2.606837 -4.918215  7.305334  1.914428  4.356170 -1.593105  2.711941   \n",
       "284803  1.058415  0.024330  0.294869  0.584800 -0.975926 -0.150189  0.915802   \n",
       "284804  3.031260 -0.296827  0.708417  0.432454 -0.484782  0.411614  0.063119   \n",
       "284805  0.623708 -0.686180  0.679145  0.392087 -0.399126 -1.933849 -0.962886   \n",
       "284806 -0.649617  1.577006 -0.414650  0.486180 -0.915427 -1.040458 -0.031513   \n",
       "\n",
       "             V13       V14       V15       V16       V17       V18       V19  \\\n",
       "0      -0.991390 -0.311169  1.468177 -0.470401  0.207971  0.025791  0.403993   \n",
       "1       0.489095 -0.143772  0.635558  0.463917 -0.114805 -0.183361 -0.145783   \n",
       "2       0.717293 -0.165946  2.345865 -2.890083  1.109969 -0.121359 -2.261857   \n",
       "3       0.507757 -0.287924 -0.631418 -1.059647 -0.684093  1.965775 -1.232622   \n",
       "4       1.345852 -1.119670  0.175121 -0.451449 -0.237033 -0.038195  0.803487   \n",
       "...          ...       ...       ...       ...       ...       ...       ...   \n",
       "284802 -0.689256  4.626942 -0.924459  1.107641  1.991691  0.510632 -0.682920   \n",
       "284803  1.214756 -0.675143  1.164931 -0.711757 -0.025693 -1.221179 -1.545556   \n",
       "284804 -0.183699 -0.510602  1.329284  0.140716  0.313502  0.395652 -0.577252   \n",
       "284805 -1.042082  0.449624  1.962563 -0.608577  0.509928  1.113981  2.897849   \n",
       "284806 -0.188093 -0.084316  0.041333 -0.302620 -0.660377  0.167430 -0.256117   \n",
       "\n",
       "             V20       V21       V22       V23       V24       V25       V26  \\\n",
       "0       0.251412 -0.018307  0.277838 -0.110474  0.066928  0.128539 -0.189115   \n",
       "1      -0.069083 -0.225775 -0.638672  0.101288 -0.339846  0.167170  0.125895   \n",
       "2       0.524980  0.247998  0.771679  0.909412 -0.689281 -0.327642 -0.139097   \n",
       "3      -0.208038 -0.108300  0.005274 -0.190321 -1.175575  0.647376 -0.221929   \n",
       "4       0.408542 -0.009431  0.798278 -0.137458  0.141267 -0.206010  0.502292   \n",
       "...          ...       ...       ...       ...       ...       ...       ...   \n",
       "284802  1.475829  0.213454  0.111864  1.014480 -0.509348  1.436807  0.250034   \n",
       "284803  0.059616  0.214205  0.924384  0.012463 -1.016226 -0.606624 -0.395255   \n",
       "284804  0.001396  0.232045  0.578229 -0.037501  0.640134  0.265745 -0.087371   \n",
       "284805  0.127434  0.265245  0.800049 -0.163298  0.123205 -0.569159  0.546668   \n",
       "284806  0.382948  0.261057  0.643078  0.376777  0.008797 -0.473649 -0.818267   \n",
       "\n",
       "             V27       V28  Amount  Class  \n",
       "0       0.133558 -0.021053  149.62      0  \n",
       "1      -0.008983  0.014724    2.69      0  \n",
       "2      -0.055353 -0.059752  378.66      0  \n",
       "3       0.062723  0.061458  123.50      0  \n",
       "4       0.219422  0.215153   69.99      0  \n",
       "...          ...       ...     ...    ...  \n",
       "284802  0.943651  0.823731    0.77      0  \n",
       "284803  0.068472 -0.053527   24.79      0  \n",
       "284804  0.004455 -0.026561   67.88      0  \n",
       "284805  0.108821  0.104533   10.00      0  \n",
       "284806 -0.002415  0.013649  217.00      0  \n",
       "\n",
       "[284807 rows x 31 columns]"
      ]
     },
     "execution_count": 4,
     "metadata": {},
     "output_type": "execute_result"
    }
   ],
   "source": [
    "df"
   ]
  },
  {
   "cell_type": "markdown",
   "metadata": {},
   "source": [
    "#### Explore number of rows, columns, data type and data structure"
   ]
  },
  {
   "cell_type": "code",
   "execution_count": 5,
   "metadata": {
    "ExecuteTime": {
     "end_time": "2020-03-25T18:48:31.501280Z",
     "start_time": "2020-03-25T18:48:31.489341Z"
    }
   },
   "outputs": [
    {
     "data": {
      "text/plain": [
       "(284807, 31)"
      ]
     },
     "execution_count": 5,
     "metadata": {},
     "output_type": "execute_result"
    }
   ],
   "source": [
    "#Columns and rows\n",
    "df.shape"
   ]
  },
  {
   "cell_type": "code",
   "execution_count": 6,
   "metadata": {
    "ExecuteTime": {
     "end_time": "2020-03-25T18:48:31.590397Z",
     "start_time": "2020-03-25T18:48:31.503115Z"
    }
   },
   "outputs": [
    {
     "name": "stdout",
     "output_type": "stream",
     "text": [
      "<class 'pandas.core.frame.DataFrame'>\n",
      "RangeIndex: 284807 entries, 0 to 284806\n",
      "Data columns (total 31 columns):\n",
      " #   Column  Non-Null Count   Dtype  \n",
      "---  ------  --------------   -----  \n",
      " 0   Time    284807 non-null  float64\n",
      " 1   V1      284807 non-null  float64\n",
      " 2   V2      284807 non-null  float64\n",
      " 3   V3      284807 non-null  float64\n",
      " 4   V4      284807 non-null  float64\n",
      " 5   V5      284807 non-null  float64\n",
      " 6   V6      284807 non-null  float64\n",
      " 7   V7      284807 non-null  float64\n",
      " 8   V8      284807 non-null  float64\n",
      " 9   V9      284807 non-null  float64\n",
      " 10  V10     284807 non-null  float64\n",
      " 11  V11     284807 non-null  float64\n",
      " 12  V12     284807 non-null  float64\n",
      " 13  V13     284807 non-null  float64\n",
      " 14  V14     284807 non-null  float64\n",
      " 15  V15     284807 non-null  float64\n",
      " 16  V16     284807 non-null  float64\n",
      " 17  V17     284807 non-null  float64\n",
      " 18  V18     284807 non-null  float64\n",
      " 19  V19     284807 non-null  float64\n",
      " 20  V20     284807 non-null  float64\n",
      " 21  V21     284807 non-null  float64\n",
      " 22  V22     284807 non-null  float64\n",
      " 23  V23     284807 non-null  float64\n",
      " 24  V24     284807 non-null  float64\n",
      " 25  V25     284807 non-null  float64\n",
      " 26  V26     284807 non-null  float64\n",
      " 27  V27     284807 non-null  float64\n",
      " 28  V28     284807 non-null  float64\n",
      " 29  Amount  284807 non-null  float64\n",
      " 30  Class   284807 non-null  int64  \n",
      "dtypes: float64(30), int64(1)\n",
      "memory usage: 67.4 MB\n"
     ]
    }
   ],
   "source": [
    "## Check the data types\n",
    "df.info()"
   ]
  },
  {
   "cell_type": "code",
   "execution_count": 7,
   "metadata": {
    "ExecuteTime": {
     "end_time": "2020-03-25T18:48:32.372617Z",
     "start_time": "2020-03-25T18:48:31.593567Z"
    }
   },
   "outputs": [
    {
     "data": {
      "text/html": [
       "<div>\n",
       "<style scoped>\n",
       "    .dataframe tbody tr th:only-of-type {\n",
       "        vertical-align: middle;\n",
       "    }\n",
       "\n",
       "    .dataframe tbody tr th {\n",
       "        vertical-align: top;\n",
       "    }\n",
       "\n",
       "    .dataframe thead th {\n",
       "        text-align: right;\n",
       "    }\n",
       "</style>\n",
       "<table border=\"1\" class=\"dataframe\">\n",
       "  <thead>\n",
       "    <tr style=\"text-align: right;\">\n",
       "      <th></th>\n",
       "      <th>Time</th>\n",
       "      <th>V1</th>\n",
       "      <th>V2</th>\n",
       "      <th>V3</th>\n",
       "      <th>V4</th>\n",
       "      <th>V5</th>\n",
       "      <th>V6</th>\n",
       "      <th>V7</th>\n",
       "      <th>V8</th>\n",
       "      <th>V9</th>\n",
       "      <th>V10</th>\n",
       "      <th>V11</th>\n",
       "      <th>V12</th>\n",
       "      <th>V13</th>\n",
       "      <th>V14</th>\n",
       "      <th>V15</th>\n",
       "      <th>V16</th>\n",
       "      <th>V17</th>\n",
       "      <th>V18</th>\n",
       "      <th>V19</th>\n",
       "      <th>V20</th>\n",
       "      <th>V21</th>\n",
       "      <th>V22</th>\n",
       "      <th>V23</th>\n",
       "      <th>V24</th>\n",
       "      <th>V25</th>\n",
       "      <th>V26</th>\n",
       "      <th>V27</th>\n",
       "      <th>V28</th>\n",
       "      <th>Amount</th>\n",
       "      <th>Class</th>\n",
       "    </tr>\n",
       "  </thead>\n",
       "  <tbody>\n",
       "    <tr>\n",
       "      <th>count</th>\n",
       "      <td>284807.000000</td>\n",
       "      <td>2.848070e+05</td>\n",
       "      <td>2.848070e+05</td>\n",
       "      <td>2.848070e+05</td>\n",
       "      <td>2.848070e+05</td>\n",
       "      <td>2.848070e+05</td>\n",
       "      <td>2.848070e+05</td>\n",
       "      <td>2.848070e+05</td>\n",
       "      <td>2.848070e+05</td>\n",
       "      <td>2.848070e+05</td>\n",
       "      <td>2.848070e+05</td>\n",
       "      <td>2.848070e+05</td>\n",
       "      <td>2.848070e+05</td>\n",
       "      <td>2.848070e+05</td>\n",
       "      <td>2.848070e+05</td>\n",
       "      <td>2.848070e+05</td>\n",
       "      <td>2.848070e+05</td>\n",
       "      <td>2.848070e+05</td>\n",
       "      <td>2.848070e+05</td>\n",
       "      <td>2.848070e+05</td>\n",
       "      <td>2.848070e+05</td>\n",
       "      <td>2.848070e+05</td>\n",
       "      <td>2.848070e+05</td>\n",
       "      <td>2.848070e+05</td>\n",
       "      <td>2.848070e+05</td>\n",
       "      <td>2.848070e+05</td>\n",
       "      <td>2.848070e+05</td>\n",
       "      <td>2.848070e+05</td>\n",
       "      <td>2.848070e+05</td>\n",
       "      <td>284807.000000</td>\n",
       "      <td>284807.000000</td>\n",
       "    </tr>\n",
       "    <tr>\n",
       "      <th>mean</th>\n",
       "      <td>94813.859575</td>\n",
       "      <td>3.919560e-15</td>\n",
       "      <td>5.688174e-16</td>\n",
       "      <td>-8.769071e-15</td>\n",
       "      <td>2.782312e-15</td>\n",
       "      <td>-1.552563e-15</td>\n",
       "      <td>2.010663e-15</td>\n",
       "      <td>-1.694249e-15</td>\n",
       "      <td>-1.927028e-16</td>\n",
       "      <td>-3.137024e-15</td>\n",
       "      <td>1.768627e-15</td>\n",
       "      <td>9.170318e-16</td>\n",
       "      <td>-1.810658e-15</td>\n",
       "      <td>1.693438e-15</td>\n",
       "      <td>1.479045e-15</td>\n",
       "      <td>3.482336e-15</td>\n",
       "      <td>1.392007e-15</td>\n",
       "      <td>-7.528491e-16</td>\n",
       "      <td>4.328772e-16</td>\n",
       "      <td>9.049732e-16</td>\n",
       "      <td>5.085503e-16</td>\n",
       "      <td>1.537294e-16</td>\n",
       "      <td>7.959909e-16</td>\n",
       "      <td>5.367590e-16</td>\n",
       "      <td>4.458112e-15</td>\n",
       "      <td>1.453003e-15</td>\n",
       "      <td>1.699104e-15</td>\n",
       "      <td>-3.660161e-16</td>\n",
       "      <td>-1.206049e-16</td>\n",
       "      <td>88.349619</td>\n",
       "      <td>0.001727</td>\n",
       "    </tr>\n",
       "    <tr>\n",
       "      <th>std</th>\n",
       "      <td>47488.145955</td>\n",
       "      <td>1.958696e+00</td>\n",
       "      <td>1.651309e+00</td>\n",
       "      <td>1.516255e+00</td>\n",
       "      <td>1.415869e+00</td>\n",
       "      <td>1.380247e+00</td>\n",
       "      <td>1.332271e+00</td>\n",
       "      <td>1.237094e+00</td>\n",
       "      <td>1.194353e+00</td>\n",
       "      <td>1.098632e+00</td>\n",
       "      <td>1.088850e+00</td>\n",
       "      <td>1.020713e+00</td>\n",
       "      <td>9.992014e-01</td>\n",
       "      <td>9.952742e-01</td>\n",
       "      <td>9.585956e-01</td>\n",
       "      <td>9.153160e-01</td>\n",
       "      <td>8.762529e-01</td>\n",
       "      <td>8.493371e-01</td>\n",
       "      <td>8.381762e-01</td>\n",
       "      <td>8.140405e-01</td>\n",
       "      <td>7.709250e-01</td>\n",
       "      <td>7.345240e-01</td>\n",
       "      <td>7.257016e-01</td>\n",
       "      <td>6.244603e-01</td>\n",
       "      <td>6.056471e-01</td>\n",
       "      <td>5.212781e-01</td>\n",
       "      <td>4.822270e-01</td>\n",
       "      <td>4.036325e-01</td>\n",
       "      <td>3.300833e-01</td>\n",
       "      <td>250.120109</td>\n",
       "      <td>0.041527</td>\n",
       "    </tr>\n",
       "    <tr>\n",
       "      <th>min</th>\n",
       "      <td>0.000000</td>\n",
       "      <td>-5.640751e+01</td>\n",
       "      <td>-7.271573e+01</td>\n",
       "      <td>-4.832559e+01</td>\n",
       "      <td>-5.683171e+00</td>\n",
       "      <td>-1.137433e+02</td>\n",
       "      <td>-2.616051e+01</td>\n",
       "      <td>-4.355724e+01</td>\n",
       "      <td>-7.321672e+01</td>\n",
       "      <td>-1.343407e+01</td>\n",
       "      <td>-2.458826e+01</td>\n",
       "      <td>-4.797473e+00</td>\n",
       "      <td>-1.868371e+01</td>\n",
       "      <td>-5.791881e+00</td>\n",
       "      <td>-1.921433e+01</td>\n",
       "      <td>-4.498945e+00</td>\n",
       "      <td>-1.412985e+01</td>\n",
       "      <td>-2.516280e+01</td>\n",
       "      <td>-9.498746e+00</td>\n",
       "      <td>-7.213527e+00</td>\n",
       "      <td>-5.449772e+01</td>\n",
       "      <td>-3.483038e+01</td>\n",
       "      <td>-1.093314e+01</td>\n",
       "      <td>-4.480774e+01</td>\n",
       "      <td>-2.836627e+00</td>\n",
       "      <td>-1.029540e+01</td>\n",
       "      <td>-2.604551e+00</td>\n",
       "      <td>-2.256568e+01</td>\n",
       "      <td>-1.543008e+01</td>\n",
       "      <td>0.000000</td>\n",
       "      <td>0.000000</td>\n",
       "    </tr>\n",
       "    <tr>\n",
       "      <th>25%</th>\n",
       "      <td>54201.500000</td>\n",
       "      <td>-9.203734e-01</td>\n",
       "      <td>-5.985499e-01</td>\n",
       "      <td>-8.903648e-01</td>\n",
       "      <td>-8.486401e-01</td>\n",
       "      <td>-6.915971e-01</td>\n",
       "      <td>-7.682956e-01</td>\n",
       "      <td>-5.540759e-01</td>\n",
       "      <td>-2.086297e-01</td>\n",
       "      <td>-6.430976e-01</td>\n",
       "      <td>-5.354257e-01</td>\n",
       "      <td>-7.624942e-01</td>\n",
       "      <td>-4.055715e-01</td>\n",
       "      <td>-6.485393e-01</td>\n",
       "      <td>-4.255740e-01</td>\n",
       "      <td>-5.828843e-01</td>\n",
       "      <td>-4.680368e-01</td>\n",
       "      <td>-4.837483e-01</td>\n",
       "      <td>-4.988498e-01</td>\n",
       "      <td>-4.562989e-01</td>\n",
       "      <td>-2.117214e-01</td>\n",
       "      <td>-2.283949e-01</td>\n",
       "      <td>-5.423504e-01</td>\n",
       "      <td>-1.618463e-01</td>\n",
       "      <td>-3.545861e-01</td>\n",
       "      <td>-3.171451e-01</td>\n",
       "      <td>-3.269839e-01</td>\n",
       "      <td>-7.083953e-02</td>\n",
       "      <td>-5.295979e-02</td>\n",
       "      <td>5.600000</td>\n",
       "      <td>0.000000</td>\n",
       "    </tr>\n",
       "    <tr>\n",
       "      <th>50%</th>\n",
       "      <td>84692.000000</td>\n",
       "      <td>1.810880e-02</td>\n",
       "      <td>6.548556e-02</td>\n",
       "      <td>1.798463e-01</td>\n",
       "      <td>-1.984653e-02</td>\n",
       "      <td>-5.433583e-02</td>\n",
       "      <td>-2.741871e-01</td>\n",
       "      <td>4.010308e-02</td>\n",
       "      <td>2.235804e-02</td>\n",
       "      <td>-5.142873e-02</td>\n",
       "      <td>-9.291738e-02</td>\n",
       "      <td>-3.275735e-02</td>\n",
       "      <td>1.400326e-01</td>\n",
       "      <td>-1.356806e-02</td>\n",
       "      <td>5.060132e-02</td>\n",
       "      <td>4.807155e-02</td>\n",
       "      <td>6.641332e-02</td>\n",
       "      <td>-6.567575e-02</td>\n",
       "      <td>-3.636312e-03</td>\n",
       "      <td>3.734823e-03</td>\n",
       "      <td>-6.248109e-02</td>\n",
       "      <td>-2.945017e-02</td>\n",
       "      <td>6.781943e-03</td>\n",
       "      <td>-1.119293e-02</td>\n",
       "      <td>4.097606e-02</td>\n",
       "      <td>1.659350e-02</td>\n",
       "      <td>-5.213911e-02</td>\n",
       "      <td>1.342146e-03</td>\n",
       "      <td>1.124383e-02</td>\n",
       "      <td>22.000000</td>\n",
       "      <td>0.000000</td>\n",
       "    </tr>\n",
       "    <tr>\n",
       "      <th>75%</th>\n",
       "      <td>139320.500000</td>\n",
       "      <td>1.315642e+00</td>\n",
       "      <td>8.037239e-01</td>\n",
       "      <td>1.027196e+00</td>\n",
       "      <td>7.433413e-01</td>\n",
       "      <td>6.119264e-01</td>\n",
       "      <td>3.985649e-01</td>\n",
       "      <td>5.704361e-01</td>\n",
       "      <td>3.273459e-01</td>\n",
       "      <td>5.971390e-01</td>\n",
       "      <td>4.539234e-01</td>\n",
       "      <td>7.395934e-01</td>\n",
       "      <td>6.182380e-01</td>\n",
       "      <td>6.625050e-01</td>\n",
       "      <td>4.931498e-01</td>\n",
       "      <td>6.488208e-01</td>\n",
       "      <td>5.232963e-01</td>\n",
       "      <td>3.996750e-01</td>\n",
       "      <td>5.008067e-01</td>\n",
       "      <td>4.589494e-01</td>\n",
       "      <td>1.330408e-01</td>\n",
       "      <td>1.863772e-01</td>\n",
       "      <td>5.285536e-01</td>\n",
       "      <td>1.476421e-01</td>\n",
       "      <td>4.395266e-01</td>\n",
       "      <td>3.507156e-01</td>\n",
       "      <td>2.409522e-01</td>\n",
       "      <td>9.104512e-02</td>\n",
       "      <td>7.827995e-02</td>\n",
       "      <td>77.165000</td>\n",
       "      <td>0.000000</td>\n",
       "    </tr>\n",
       "    <tr>\n",
       "      <th>max</th>\n",
       "      <td>172792.000000</td>\n",
       "      <td>2.454930e+00</td>\n",
       "      <td>2.205773e+01</td>\n",
       "      <td>9.382558e+00</td>\n",
       "      <td>1.687534e+01</td>\n",
       "      <td>3.480167e+01</td>\n",
       "      <td>7.330163e+01</td>\n",
       "      <td>1.205895e+02</td>\n",
       "      <td>2.000721e+01</td>\n",
       "      <td>1.559499e+01</td>\n",
       "      <td>2.374514e+01</td>\n",
       "      <td>1.201891e+01</td>\n",
       "      <td>7.848392e+00</td>\n",
       "      <td>7.126883e+00</td>\n",
       "      <td>1.052677e+01</td>\n",
       "      <td>8.877742e+00</td>\n",
       "      <td>1.731511e+01</td>\n",
       "      <td>9.253526e+00</td>\n",
       "      <td>5.041069e+00</td>\n",
       "      <td>5.591971e+00</td>\n",
       "      <td>3.942090e+01</td>\n",
       "      <td>2.720284e+01</td>\n",
       "      <td>1.050309e+01</td>\n",
       "      <td>2.252841e+01</td>\n",
       "      <td>4.584549e+00</td>\n",
       "      <td>7.519589e+00</td>\n",
       "      <td>3.517346e+00</td>\n",
       "      <td>3.161220e+01</td>\n",
       "      <td>3.384781e+01</td>\n",
       "      <td>25691.160000</td>\n",
       "      <td>1.000000</td>\n",
       "    </tr>\n",
       "  </tbody>\n",
       "</table>\n",
       "</div>"
      ],
      "text/plain": [
       "                Time            V1            V2            V3            V4  \\\n",
       "count  284807.000000  2.848070e+05  2.848070e+05  2.848070e+05  2.848070e+05   \n",
       "mean    94813.859575  3.919560e-15  5.688174e-16 -8.769071e-15  2.782312e-15   \n",
       "std     47488.145955  1.958696e+00  1.651309e+00  1.516255e+00  1.415869e+00   \n",
       "min         0.000000 -5.640751e+01 -7.271573e+01 -4.832559e+01 -5.683171e+00   \n",
       "25%     54201.500000 -9.203734e-01 -5.985499e-01 -8.903648e-01 -8.486401e-01   \n",
       "50%     84692.000000  1.810880e-02  6.548556e-02  1.798463e-01 -1.984653e-02   \n",
       "75%    139320.500000  1.315642e+00  8.037239e-01  1.027196e+00  7.433413e-01   \n",
       "max    172792.000000  2.454930e+00  2.205773e+01  9.382558e+00  1.687534e+01   \n",
       "\n",
       "                 V5            V6            V7            V8            V9  \\\n",
       "count  2.848070e+05  2.848070e+05  2.848070e+05  2.848070e+05  2.848070e+05   \n",
       "mean  -1.552563e-15  2.010663e-15 -1.694249e-15 -1.927028e-16 -3.137024e-15   \n",
       "std    1.380247e+00  1.332271e+00  1.237094e+00  1.194353e+00  1.098632e+00   \n",
       "min   -1.137433e+02 -2.616051e+01 -4.355724e+01 -7.321672e+01 -1.343407e+01   \n",
       "25%   -6.915971e-01 -7.682956e-01 -5.540759e-01 -2.086297e-01 -6.430976e-01   \n",
       "50%   -5.433583e-02 -2.741871e-01  4.010308e-02  2.235804e-02 -5.142873e-02   \n",
       "75%    6.119264e-01  3.985649e-01  5.704361e-01  3.273459e-01  5.971390e-01   \n",
       "max    3.480167e+01  7.330163e+01  1.205895e+02  2.000721e+01  1.559499e+01   \n",
       "\n",
       "                V10           V11           V12           V13           V14  \\\n",
       "count  2.848070e+05  2.848070e+05  2.848070e+05  2.848070e+05  2.848070e+05   \n",
       "mean   1.768627e-15  9.170318e-16 -1.810658e-15  1.693438e-15  1.479045e-15   \n",
       "std    1.088850e+00  1.020713e+00  9.992014e-01  9.952742e-01  9.585956e-01   \n",
       "min   -2.458826e+01 -4.797473e+00 -1.868371e+01 -5.791881e+00 -1.921433e+01   \n",
       "25%   -5.354257e-01 -7.624942e-01 -4.055715e-01 -6.485393e-01 -4.255740e-01   \n",
       "50%   -9.291738e-02 -3.275735e-02  1.400326e-01 -1.356806e-02  5.060132e-02   \n",
       "75%    4.539234e-01  7.395934e-01  6.182380e-01  6.625050e-01  4.931498e-01   \n",
       "max    2.374514e+01  1.201891e+01  7.848392e+00  7.126883e+00  1.052677e+01   \n",
       "\n",
       "                V15           V16           V17           V18           V19  \\\n",
       "count  2.848070e+05  2.848070e+05  2.848070e+05  2.848070e+05  2.848070e+05   \n",
       "mean   3.482336e-15  1.392007e-15 -7.528491e-16  4.328772e-16  9.049732e-16   \n",
       "std    9.153160e-01  8.762529e-01  8.493371e-01  8.381762e-01  8.140405e-01   \n",
       "min   -4.498945e+00 -1.412985e+01 -2.516280e+01 -9.498746e+00 -7.213527e+00   \n",
       "25%   -5.828843e-01 -4.680368e-01 -4.837483e-01 -4.988498e-01 -4.562989e-01   \n",
       "50%    4.807155e-02  6.641332e-02 -6.567575e-02 -3.636312e-03  3.734823e-03   \n",
       "75%    6.488208e-01  5.232963e-01  3.996750e-01  5.008067e-01  4.589494e-01   \n",
       "max    8.877742e+00  1.731511e+01  9.253526e+00  5.041069e+00  5.591971e+00   \n",
       "\n",
       "                V20           V21           V22           V23           V24  \\\n",
       "count  2.848070e+05  2.848070e+05  2.848070e+05  2.848070e+05  2.848070e+05   \n",
       "mean   5.085503e-16  1.537294e-16  7.959909e-16  5.367590e-16  4.458112e-15   \n",
       "std    7.709250e-01  7.345240e-01  7.257016e-01  6.244603e-01  6.056471e-01   \n",
       "min   -5.449772e+01 -3.483038e+01 -1.093314e+01 -4.480774e+01 -2.836627e+00   \n",
       "25%   -2.117214e-01 -2.283949e-01 -5.423504e-01 -1.618463e-01 -3.545861e-01   \n",
       "50%   -6.248109e-02 -2.945017e-02  6.781943e-03 -1.119293e-02  4.097606e-02   \n",
       "75%    1.330408e-01  1.863772e-01  5.285536e-01  1.476421e-01  4.395266e-01   \n",
       "max    3.942090e+01  2.720284e+01  1.050309e+01  2.252841e+01  4.584549e+00   \n",
       "\n",
       "                V25           V26           V27           V28         Amount  \\\n",
       "count  2.848070e+05  2.848070e+05  2.848070e+05  2.848070e+05  284807.000000   \n",
       "mean   1.453003e-15  1.699104e-15 -3.660161e-16 -1.206049e-16      88.349619   \n",
       "std    5.212781e-01  4.822270e-01  4.036325e-01  3.300833e-01     250.120109   \n",
       "min   -1.029540e+01 -2.604551e+00 -2.256568e+01 -1.543008e+01       0.000000   \n",
       "25%   -3.171451e-01 -3.269839e-01 -7.083953e-02 -5.295979e-02       5.600000   \n",
       "50%    1.659350e-02 -5.213911e-02  1.342146e-03  1.124383e-02      22.000000   \n",
       "75%    3.507156e-01  2.409522e-01  9.104512e-02  7.827995e-02      77.165000   \n",
       "max    7.519589e+00  3.517346e+00  3.161220e+01  3.384781e+01   25691.160000   \n",
       "\n",
       "               Class  \n",
       "count  284807.000000  \n",
       "mean        0.001727  \n",
       "std         0.041527  \n",
       "min         0.000000  \n",
       "25%         0.000000  \n",
       "50%         0.000000  \n",
       "75%         0.000000  \n",
       "max         1.000000  "
      ]
     },
     "execution_count": 7,
     "metadata": {},
     "output_type": "execute_result"
    }
   ],
   "source": [
    "# View statistical details\n",
    "df.describe()"
   ]
  },
  {
   "cell_type": "markdown",
   "metadata": {},
   "source": [
    "- Time ranges from 0 to 172,792\n",
    "- Amount spent ranges from 0 to 25691 euros\n",
    "- CLass ranges from 0 to 1.  1 is fraudulent and 0 is valid transaction"
   ]
  },
  {
   "cell_type": "code",
   "execution_count": 8,
   "metadata": {
    "ExecuteTime": {
     "end_time": "2020-03-25T18:48:32.442233Z",
     "start_time": "2020-03-25T18:48:32.377550Z"
    }
   },
   "outputs": [
    {
     "data": {
      "text/plain": [
       "Time\n",
       "163152.0    36\n",
       "64947.0     26\n",
       "68780.0     25\n",
       "3767.0      21\n",
       "3770.0      20\n",
       "            ..\n",
       "92555.0      1\n",
       "92554.0      1\n",
       "92550.0      1\n",
       "92548.0      1\n",
       "86113.0      1\n",
       "Name: Time, Length: 124592, dtype: int64"
      ]
     },
     "execution_count": 8,
     "metadata": {},
     "output_type": "execute_result"
    }
   ],
   "source": [
    "#Group by Time\n",
    "df.groupby('Time')['Time'].count().sort_values(ascending=False)"
   ]
  },
  {
   "cell_type": "code",
   "execution_count": 9,
   "metadata": {
    "ExecuteTime": {
     "end_time": "2020-03-25T18:48:32.493231Z",
     "start_time": "2020-03-25T18:48:32.445722Z"
    }
   },
   "outputs": [
    {
     "data": {
      "text/plain": [
       "Amount\n",
       "1.00      13688\n",
       "1.98       6044\n",
       "0.89       4872\n",
       "9.99       4747\n",
       "15.00      3280\n",
       "          ...  \n",
       "313.20        1\n",
       "313.24        1\n",
       "313.26        1\n",
       "313.28        1\n",
       "194.26        1\n",
       "Name: Amount, Length: 32767, dtype: int64"
      ]
     },
     "execution_count": 9,
     "metadata": {},
     "output_type": "execute_result"
    }
   ],
   "source": [
    "#Group by Time\n",
    "df.groupby('Amount')['Amount'].count().sort_values(ascending=False)"
   ]
  },
  {
   "cell_type": "markdown",
   "metadata": {},
   "source": [
    "#### Data Understanding Summary\n",
    "\n",
    "1. Dataset has 284,807 rows and 31 columns which are already transformed and reduced using PCA. Original features not available with exception of time, amount and class.\n",
    "2. All columns are numerical\n",
    "3. Features\n",
    "\n",
    "a) 'Time' contains the seconds elapsed between each transaction and the first transaction in the dataset.\n",
    "\n",
    "b) 'Amount' is the transaction Amount,which can be used for cost-senstive learning.\n",
    "\n",
    "c) 'Class' is the response variable and it takes value 1 in case of fraud and 0 otherwise.\n",
    "d)  Features 'V1-V28'  dimenstions reducing using PCA  to protect user identities and sensitive features e.g credit card."
   ]
  },
  {
   "cell_type": "markdown",
   "metadata": {},
   "source": [
    "## Exploratory Data Analysis"
   ]
  },
  {
   "cell_type": "markdown",
   "metadata": {},
   "source": [
    "### Cleaning data"
   ]
  },
  {
   "cell_type": "markdown",
   "metadata": {},
   "source": [
    "#### Check null records"
   ]
  },
  {
   "cell_type": "code",
   "execution_count": 10,
   "metadata": {
    "ExecuteTime": {
     "end_time": "2020-03-25T18:48:32.541934Z",
     "start_time": "2020-03-25T18:48:32.496048Z"
    }
   },
   "outputs": [
    {
     "data": {
      "text/plain": [
       "Time      0\n",
       "V1        0\n",
       "V2        0\n",
       "V3        0\n",
       "V4        0\n",
       "V5        0\n",
       "V6        0\n",
       "V7        0\n",
       "V8        0\n",
       "V9        0\n",
       "V10       0\n",
       "V11       0\n",
       "V12       0\n",
       "V13       0\n",
       "V14       0\n",
       "V15       0\n",
       "V16       0\n",
       "V17       0\n",
       "V18       0\n",
       "V19       0\n",
       "V20       0\n",
       "V21       0\n",
       "V22       0\n",
       "V23       0\n",
       "V24       0\n",
       "V25       0\n",
       "V26       0\n",
       "V27       0\n",
       "V28       0\n",
       "Amount    0\n",
       "Class     0\n",
       "dtype: int64"
      ]
     },
     "execution_count": 10,
     "metadata": {},
     "output_type": "execute_result"
    }
   ],
   "source": [
    "df.isnull().sum()"
   ]
  },
  {
   "cell_type": "markdown",
   "metadata": {},
   "source": [
    "No null records exist"
   ]
  },
  {
   "cell_type": "markdown",
   "metadata": {},
   "source": [
    "#### Check duplicates\n",
    "\n",
    "The fact that the dataset has amount, time and credit card specific details implies that there should be no duplicates.\n",
    "If any are found, possibility of fraud transactions."
   ]
  },
  {
   "cell_type": "code",
   "execution_count": 11,
   "metadata": {
    "ExecuteTime": {
     "end_time": "2020-03-25T18:48:34.109898Z",
     "start_time": "2020-03-25T18:48:32.544442Z"
    }
   },
   "outputs": [
    {
     "name": "stdout",
     "output_type": "stream",
     "text": [
      "Duplicates are:  1081\n"
     ]
    }
   ],
   "source": [
    "## Check duplicates\n",
    "print(\"Duplicates are: \",df.duplicated().sum())"
   ]
  },
  {
   "cell_type": "markdown",
   "metadata": {
    "ExecuteTime": {
     "end_time": "2020-03-24T07:20:19.901381Z",
     "start_time": "2020-03-24T07:20:19.896912Z"
    }
   },
   "source": [
    " View Duplicates"
   ]
  },
  {
   "cell_type": "code",
   "execution_count": 12,
   "metadata": {
    "ExecuteTime": {
     "end_time": "2020-03-25T18:48:35.028672Z",
     "start_time": "2020-03-25T18:48:34.112339Z"
    }
   },
   "outputs": [
    {
     "data": {
      "text/html": [
       "<div>\n",
       "<style scoped>\n",
       "    .dataframe tbody tr th:only-of-type {\n",
       "        vertical-align: middle;\n",
       "    }\n",
       "\n",
       "    .dataframe tbody tr th {\n",
       "        vertical-align: top;\n",
       "    }\n",
       "\n",
       "    .dataframe thead th {\n",
       "        text-align: right;\n",
       "    }\n",
       "</style>\n",
       "<table border=\"1\" class=\"dataframe\">\n",
       "  <thead>\n",
       "    <tr style=\"text-align: right;\">\n",
       "      <th></th>\n",
       "      <th>Time</th>\n",
       "      <th>V1</th>\n",
       "      <th>V2</th>\n",
       "      <th>V3</th>\n",
       "      <th>V4</th>\n",
       "      <th>V5</th>\n",
       "      <th>V6</th>\n",
       "      <th>V7</th>\n",
       "      <th>V8</th>\n",
       "      <th>V9</th>\n",
       "      <th>V10</th>\n",
       "      <th>V11</th>\n",
       "      <th>V12</th>\n",
       "      <th>V13</th>\n",
       "      <th>V14</th>\n",
       "      <th>V15</th>\n",
       "      <th>V16</th>\n",
       "      <th>V17</th>\n",
       "      <th>V18</th>\n",
       "      <th>V19</th>\n",
       "      <th>V20</th>\n",
       "      <th>V21</th>\n",
       "      <th>V22</th>\n",
       "      <th>V23</th>\n",
       "      <th>V24</th>\n",
       "      <th>V25</th>\n",
       "      <th>V26</th>\n",
       "      <th>V27</th>\n",
       "      <th>V28</th>\n",
       "      <th>Amount</th>\n",
       "      <th>Class</th>\n",
       "    </tr>\n",
       "  </thead>\n",
       "  <tbody>\n",
       "    <tr>\n",
       "      <th>33</th>\n",
       "      <td>26.0</td>\n",
       "      <td>-0.529912</td>\n",
       "      <td>0.873892</td>\n",
       "      <td>1.347247</td>\n",
       "      <td>0.145457</td>\n",
       "      <td>0.414209</td>\n",
       "      <td>0.100223</td>\n",
       "      <td>0.711206</td>\n",
       "      <td>0.176066</td>\n",
       "      <td>-0.286717</td>\n",
       "      <td>-0.484688</td>\n",
       "      <td>0.872490</td>\n",
       "      <td>0.851636</td>\n",
       "      <td>-0.571745</td>\n",
       "      <td>0.100974</td>\n",
       "      <td>-1.519772</td>\n",
       "      <td>-0.284376</td>\n",
       "      <td>-0.310524</td>\n",
       "      <td>-0.404248</td>\n",
       "      <td>-0.823374</td>\n",
       "      <td>-0.290348</td>\n",
       "      <td>0.046949</td>\n",
       "      <td>0.208105</td>\n",
       "      <td>-0.185548</td>\n",
       "      <td>0.001031</td>\n",
       "      <td>0.098816</td>\n",
       "      <td>-0.552904</td>\n",
       "      <td>-0.073288</td>\n",
       "      <td>0.023307</td>\n",
       "      <td>6.14</td>\n",
       "      <td>0</td>\n",
       "    </tr>\n",
       "    <tr>\n",
       "      <th>35</th>\n",
       "      <td>26.0</td>\n",
       "      <td>-0.535388</td>\n",
       "      <td>0.865268</td>\n",
       "      <td>1.351076</td>\n",
       "      <td>0.147575</td>\n",
       "      <td>0.433680</td>\n",
       "      <td>0.086983</td>\n",
       "      <td>0.693039</td>\n",
       "      <td>0.179742</td>\n",
       "      <td>-0.285642</td>\n",
       "      <td>-0.482474</td>\n",
       "      <td>0.871800</td>\n",
       "      <td>0.853447</td>\n",
       "      <td>-0.571822</td>\n",
       "      <td>0.102252</td>\n",
       "      <td>-1.519991</td>\n",
       "      <td>-0.285912</td>\n",
       "      <td>-0.309633</td>\n",
       "      <td>-0.403902</td>\n",
       "      <td>-0.823743</td>\n",
       "      <td>-0.283264</td>\n",
       "      <td>0.049526</td>\n",
       "      <td>0.206537</td>\n",
       "      <td>-0.187108</td>\n",
       "      <td>0.000753</td>\n",
       "      <td>0.098117</td>\n",
       "      <td>-0.553471</td>\n",
       "      <td>-0.078306</td>\n",
       "      <td>0.025427</td>\n",
       "      <td>1.77</td>\n",
       "      <td>0</td>\n",
       "    </tr>\n",
       "    <tr>\n",
       "      <th>113</th>\n",
       "      <td>74.0</td>\n",
       "      <td>1.038370</td>\n",
       "      <td>0.127486</td>\n",
       "      <td>0.184456</td>\n",
       "      <td>1.109950</td>\n",
       "      <td>0.441699</td>\n",
       "      <td>0.945283</td>\n",
       "      <td>-0.036715</td>\n",
       "      <td>0.350995</td>\n",
       "      <td>0.118950</td>\n",
       "      <td>-0.243289</td>\n",
       "      <td>0.578063</td>\n",
       "      <td>0.674730</td>\n",
       "      <td>-0.534231</td>\n",
       "      <td>0.446601</td>\n",
       "      <td>1.122885</td>\n",
       "      <td>-1.768001</td>\n",
       "      <td>1.241157</td>\n",
       "      <td>-2.449500</td>\n",
       "      <td>-1.747255</td>\n",
       "      <td>-0.335520</td>\n",
       "      <td>0.102520</td>\n",
       "      <td>0.605089</td>\n",
       "      <td>0.023092</td>\n",
       "      <td>-0.626463</td>\n",
       "      <td>0.479120</td>\n",
       "      <td>-0.166937</td>\n",
       "      <td>0.081247</td>\n",
       "      <td>0.001192</td>\n",
       "      <td>1.18</td>\n",
       "      <td>0</td>\n",
       "    </tr>\n",
       "    <tr>\n",
       "      <th>114</th>\n",
       "      <td>74.0</td>\n",
       "      <td>1.038370</td>\n",
       "      <td>0.127486</td>\n",
       "      <td>0.184456</td>\n",
       "      <td>1.109950</td>\n",
       "      <td>0.441699</td>\n",
       "      <td>0.945283</td>\n",
       "      <td>-0.036715</td>\n",
       "      <td>0.350995</td>\n",
       "      <td>0.118950</td>\n",
       "      <td>-0.243289</td>\n",
       "      <td>0.578063</td>\n",
       "      <td>0.674730</td>\n",
       "      <td>-0.534231</td>\n",
       "      <td>0.446601</td>\n",
       "      <td>1.122885</td>\n",
       "      <td>-1.768001</td>\n",
       "      <td>1.241157</td>\n",
       "      <td>-2.449500</td>\n",
       "      <td>-1.747255</td>\n",
       "      <td>-0.335520</td>\n",
       "      <td>0.102520</td>\n",
       "      <td>0.605089</td>\n",
       "      <td>0.023092</td>\n",
       "      <td>-0.626463</td>\n",
       "      <td>0.479120</td>\n",
       "      <td>-0.166937</td>\n",
       "      <td>0.081247</td>\n",
       "      <td>0.001192</td>\n",
       "      <td>1.18</td>\n",
       "      <td>0</td>\n",
       "    </tr>\n",
       "    <tr>\n",
       "      <th>115</th>\n",
       "      <td>74.0</td>\n",
       "      <td>1.038370</td>\n",
       "      <td>0.127486</td>\n",
       "      <td>0.184456</td>\n",
       "      <td>1.109950</td>\n",
       "      <td>0.441699</td>\n",
       "      <td>0.945283</td>\n",
       "      <td>-0.036715</td>\n",
       "      <td>0.350995</td>\n",
       "      <td>0.118950</td>\n",
       "      <td>-0.243289</td>\n",
       "      <td>0.578063</td>\n",
       "      <td>0.674730</td>\n",
       "      <td>-0.534231</td>\n",
       "      <td>0.446601</td>\n",
       "      <td>1.122885</td>\n",
       "      <td>-1.768001</td>\n",
       "      <td>1.241157</td>\n",
       "      <td>-2.449500</td>\n",
       "      <td>-1.747255</td>\n",
       "      <td>-0.335520</td>\n",
       "      <td>0.102520</td>\n",
       "      <td>0.605089</td>\n",
       "      <td>0.023092</td>\n",
       "      <td>-0.626463</td>\n",
       "      <td>0.479120</td>\n",
       "      <td>-0.166937</td>\n",
       "      <td>0.081247</td>\n",
       "      <td>0.001192</td>\n",
       "      <td>1.18</td>\n",
       "      <td>0</td>\n",
       "    </tr>\n",
       "    <tr>\n",
       "      <th>221</th>\n",
       "      <td>145.0</td>\n",
       "      <td>-2.420413</td>\n",
       "      <td>1.947885</td>\n",
       "      <td>0.553646</td>\n",
       "      <td>0.983069</td>\n",
       "      <td>-0.281518</td>\n",
       "      <td>2.408958</td>\n",
       "      <td>-1.401613</td>\n",
       "      <td>-0.188299</td>\n",
       "      <td>0.675878</td>\n",
       "      <td>0.158497</td>\n",
       "      <td>-1.224951</td>\n",
       "      <td>1.314705</td>\n",
       "      <td>0.304412</td>\n",
       "      <td>-0.290218</td>\n",
       "      <td>-2.014548</td>\n",
       "      <td>-0.772801</td>\n",
       "      <td>0.696761</td>\n",
       "      <td>0.017914</td>\n",
       "      <td>2.177250</td>\n",
       "      <td>-0.276207</td>\n",
       "      <td>1.213826</td>\n",
       "      <td>-1.238620</td>\n",
       "      <td>0.006927</td>\n",
       "      <td>-1.724222</td>\n",
       "      <td>0.239603</td>\n",
       "      <td>-0.313703</td>\n",
       "      <td>-0.188281</td>\n",
       "      <td>0.119831</td>\n",
       "      <td>6.00</td>\n",
       "      <td>0</td>\n",
       "    </tr>\n",
       "    <tr>\n",
       "      <th>223</th>\n",
       "      <td>145.0</td>\n",
       "      <td>-2.419486</td>\n",
       "      <td>1.949346</td>\n",
       "      <td>0.552998</td>\n",
       "      <td>0.982710</td>\n",
       "      <td>-0.284815</td>\n",
       "      <td>2.411200</td>\n",
       "      <td>-1.398537</td>\n",
       "      <td>-0.188922</td>\n",
       "      <td>0.675695</td>\n",
       "      <td>0.158123</td>\n",
       "      <td>-1.224834</td>\n",
       "      <td>1.314398</td>\n",
       "      <td>0.304425</td>\n",
       "      <td>-0.290434</td>\n",
       "      <td>-2.014511</td>\n",
       "      <td>-0.772540</td>\n",
       "      <td>0.696610</td>\n",
       "      <td>0.017855</td>\n",
       "      <td>2.177312</td>\n",
       "      <td>-0.277406</td>\n",
       "      <td>1.213390</td>\n",
       "      <td>-1.238354</td>\n",
       "      <td>0.007191</td>\n",
       "      <td>-1.724175</td>\n",
       "      <td>0.239721</td>\n",
       "      <td>-0.313607</td>\n",
       "      <td>-0.187431</td>\n",
       "      <td>0.119472</td>\n",
       "      <td>6.74</td>\n",
       "      <td>0</td>\n",
       "    </tr>\n",
       "    <tr>\n",
       "      <th>1178</th>\n",
       "      <td>919.0</td>\n",
       "      <td>0.904289</td>\n",
       "      <td>-0.538055</td>\n",
       "      <td>0.396058</td>\n",
       "      <td>0.500680</td>\n",
       "      <td>-0.864473</td>\n",
       "      <td>-0.657199</td>\n",
       "      <td>0.027231</td>\n",
       "      <td>-0.029473</td>\n",
       "      <td>0.265447</td>\n",
       "      <td>-0.110991</td>\n",
       "      <td>1.254250</td>\n",
       "      <td>0.704631</td>\n",
       "      <td>-0.967461</td>\n",
       "      <td>0.466524</td>\n",
       "      <td>-0.303979</td>\n",
       "      <td>0.094702</td>\n",
       "      <td>-0.198326</td>\n",
       "      <td>-0.124616</td>\n",
       "      <td>0.401377</td>\n",
       "      <td>0.157346</td>\n",
       "      <td>-0.099460</td>\n",
       "      <td>-0.597579</td>\n",
       "      <td>-0.048666</td>\n",
       "      <td>0.551824</td>\n",
       "      <td>0.182934</td>\n",
       "      <td>0.402176</td>\n",
       "      <td>-0.081357</td>\n",
       "      <td>0.027252</td>\n",
       "      <td>158.00</td>\n",
       "      <td>0</td>\n",
       "    </tr>\n",
       "    <tr>\n",
       "      <th>1180</th>\n",
       "      <td>919.0</td>\n",
       "      <td>1.207596</td>\n",
       "      <td>-0.036860</td>\n",
       "      <td>0.572104</td>\n",
       "      <td>0.373148</td>\n",
       "      <td>-0.709633</td>\n",
       "      <td>-0.713698</td>\n",
       "      <td>-0.181105</td>\n",
       "      <td>0.011277</td>\n",
       "      <td>0.283940</td>\n",
       "      <td>-0.037866</td>\n",
       "      <td>1.252000</td>\n",
       "      <td>0.698164</td>\n",
       "      <td>-0.995452</td>\n",
       "      <td>0.430980</td>\n",
       "      <td>-0.323729</td>\n",
       "      <td>0.073995</td>\n",
       "      <td>-0.202981</td>\n",
       "      <td>-0.156783</td>\n",
       "      <td>0.451522</td>\n",
       "      <td>-0.162378</td>\n",
       "      <td>-0.194591</td>\n",
       "      <td>-0.514717</td>\n",
       "      <td>0.089714</td>\n",
       "      <td>0.543768</td>\n",
       "      <td>0.240581</td>\n",
       "      <td>0.418921</td>\n",
       "      <td>-0.051693</td>\n",
       "      <td>-0.000085</td>\n",
       "      <td>1.00</td>\n",
       "      <td>0</td>\n",
       "    </tr>\n",
       "    <tr>\n",
       "      <th>1382</th>\n",
       "      <td>1074.0</td>\n",
       "      <td>-2.248488</td>\n",
       "      <td>-0.195670</td>\n",
       "      <td>0.026949</td>\n",
       "      <td>-0.525780</td>\n",
       "      <td>-0.238759</td>\n",
       "      <td>-0.033359</td>\n",
       "      <td>0.162196</td>\n",
       "      <td>0.928520</td>\n",
       "      <td>-0.424215</td>\n",
       "      <td>-1.133001</td>\n",
       "      <td>-0.529027</td>\n",
       "      <td>0.142246</td>\n",
       "      <td>-0.931195</td>\n",
       "      <td>0.923712</td>\n",
       "      <td>-0.750816</td>\n",
       "      <td>0.919012</td>\n",
       "      <td>-0.565837</td>\n",
       "      <td>0.547431</td>\n",
       "      <td>0.516124</td>\n",
       "      <td>-0.082562</td>\n",
       "      <td>-0.032208</td>\n",
       "      <td>-0.745757</td>\n",
       "      <td>-0.243193</td>\n",
       "      <td>-0.821633</td>\n",
       "      <td>-0.030402</td>\n",
       "      <td>0.335838</td>\n",
       "      <td>-0.286998</td>\n",
       "      <td>-0.243768</td>\n",
       "      <td>158.00</td>\n",
       "      <td>0</td>\n",
       "    </tr>\n",
       "  </tbody>\n",
       "</table>\n",
       "</div>"
      ],
      "text/plain": [
       "        Time        V1        V2        V3        V4        V5        V6  \\\n",
       "33      26.0 -0.529912  0.873892  1.347247  0.145457  0.414209  0.100223   \n",
       "35      26.0 -0.535388  0.865268  1.351076  0.147575  0.433680  0.086983   \n",
       "113     74.0  1.038370  0.127486  0.184456  1.109950  0.441699  0.945283   \n",
       "114     74.0  1.038370  0.127486  0.184456  1.109950  0.441699  0.945283   \n",
       "115     74.0  1.038370  0.127486  0.184456  1.109950  0.441699  0.945283   \n",
       "221    145.0 -2.420413  1.947885  0.553646  0.983069 -0.281518  2.408958   \n",
       "223    145.0 -2.419486  1.949346  0.552998  0.982710 -0.284815  2.411200   \n",
       "1178   919.0  0.904289 -0.538055  0.396058  0.500680 -0.864473 -0.657199   \n",
       "1180   919.0  1.207596 -0.036860  0.572104  0.373148 -0.709633 -0.713698   \n",
       "1382  1074.0 -2.248488 -0.195670  0.026949 -0.525780 -0.238759 -0.033359   \n",
       "\n",
       "            V7        V8        V9       V10       V11       V12       V13  \\\n",
       "33    0.711206  0.176066 -0.286717 -0.484688  0.872490  0.851636 -0.571745   \n",
       "35    0.693039  0.179742 -0.285642 -0.482474  0.871800  0.853447 -0.571822   \n",
       "113  -0.036715  0.350995  0.118950 -0.243289  0.578063  0.674730 -0.534231   \n",
       "114  -0.036715  0.350995  0.118950 -0.243289  0.578063  0.674730 -0.534231   \n",
       "115  -0.036715  0.350995  0.118950 -0.243289  0.578063  0.674730 -0.534231   \n",
       "221  -1.401613 -0.188299  0.675878  0.158497 -1.224951  1.314705  0.304412   \n",
       "223  -1.398537 -0.188922  0.675695  0.158123 -1.224834  1.314398  0.304425   \n",
       "1178  0.027231 -0.029473  0.265447 -0.110991  1.254250  0.704631 -0.967461   \n",
       "1180 -0.181105  0.011277  0.283940 -0.037866  1.252000  0.698164 -0.995452   \n",
       "1382  0.162196  0.928520 -0.424215 -1.133001 -0.529027  0.142246 -0.931195   \n",
       "\n",
       "           V14       V15       V16       V17       V18       V19       V20  \\\n",
       "33    0.100974 -1.519772 -0.284376 -0.310524 -0.404248 -0.823374 -0.290348   \n",
       "35    0.102252 -1.519991 -0.285912 -0.309633 -0.403902 -0.823743 -0.283264   \n",
       "113   0.446601  1.122885 -1.768001  1.241157 -2.449500 -1.747255 -0.335520   \n",
       "114   0.446601  1.122885 -1.768001  1.241157 -2.449500 -1.747255 -0.335520   \n",
       "115   0.446601  1.122885 -1.768001  1.241157 -2.449500 -1.747255 -0.335520   \n",
       "221  -0.290218 -2.014548 -0.772801  0.696761  0.017914  2.177250 -0.276207   \n",
       "223  -0.290434 -2.014511 -0.772540  0.696610  0.017855  2.177312 -0.277406   \n",
       "1178  0.466524 -0.303979  0.094702 -0.198326 -0.124616  0.401377  0.157346   \n",
       "1180  0.430980 -0.323729  0.073995 -0.202981 -0.156783  0.451522 -0.162378   \n",
       "1382  0.923712 -0.750816  0.919012 -0.565837  0.547431  0.516124 -0.082562   \n",
       "\n",
       "           V21       V22       V23       V24       V25       V26       V27  \\\n",
       "33    0.046949  0.208105 -0.185548  0.001031  0.098816 -0.552904 -0.073288   \n",
       "35    0.049526  0.206537 -0.187108  0.000753  0.098117 -0.553471 -0.078306   \n",
       "113   0.102520  0.605089  0.023092 -0.626463  0.479120 -0.166937  0.081247   \n",
       "114   0.102520  0.605089  0.023092 -0.626463  0.479120 -0.166937  0.081247   \n",
       "115   0.102520  0.605089  0.023092 -0.626463  0.479120 -0.166937  0.081247   \n",
       "221   1.213826 -1.238620  0.006927 -1.724222  0.239603 -0.313703 -0.188281   \n",
       "223   1.213390 -1.238354  0.007191 -1.724175  0.239721 -0.313607 -0.187431   \n",
       "1178 -0.099460 -0.597579 -0.048666  0.551824  0.182934  0.402176 -0.081357   \n",
       "1180 -0.194591 -0.514717  0.089714  0.543768  0.240581  0.418921 -0.051693   \n",
       "1382 -0.032208 -0.745757 -0.243193 -0.821633 -0.030402  0.335838 -0.286998   \n",
       "\n",
       "           V28  Amount  Class  \n",
       "33    0.023307    6.14      0  \n",
       "35    0.025427    1.77      0  \n",
       "113   0.001192    1.18      0  \n",
       "114   0.001192    1.18      0  \n",
       "115   0.001192    1.18      0  \n",
       "221   0.119831    6.00      0  \n",
       "223   0.119472    6.74      0  \n",
       "1178  0.027252  158.00      0  \n",
       "1180 -0.000085    1.00      0  \n",
       "1382 -0.243768  158.00      0  "
      ]
     },
     "execution_count": 12,
     "metadata": {},
     "output_type": "execute_result"
    }
   ],
   "source": [
    "df[df.duplicated()][0:10]"
   ]
  },
  {
   "cell_type": "markdown",
   "metadata": {},
   "source": [
    "Some of the values above seem valid e.g row 221 and 223. In most cases, it's the time that is duplicated and other values are not. It's acceptable to have more than one transaction logged at same time.\n",
    "\n",
    "Some values e.g row 114 and 115 at time 74 seem like real duplicates. Nevertheless, we will not drop them. An engagement with product owner to find the causes for the duplicates to advise further action.\n",
    "\n",
    "Since this is a fraud scenario, a duplicate record is likely to be fraud case as well so it's important we don't drop the duplicates arbitrarly"
   ]
  },
  {
   "cell_type": "markdown",
   "metadata": {},
   "source": [
    "#### Check Data Errors: Transactions with amount zero"
   ]
  },
  {
   "cell_type": "code",
   "execution_count": 13,
   "metadata": {
    "ExecuteTime": {
     "end_time": "2020-03-25T18:48:35.099784Z",
     "start_time": "2020-03-25T18:48:35.031014Z"
    }
   },
   "outputs": [
    {
     "name": "stdout",
     "output_type": "stream",
     "text": [
      "Records with zero values group by class\n",
      "Class\n",
      "0    1798\n",
      "1      27\n",
      "Name: Class, dtype: int64\n"
     ]
    },
    {
     "data": {
      "text/html": [
       "<div>\n",
       "<style scoped>\n",
       "    .dataframe tbody tr th:only-of-type {\n",
       "        vertical-align: middle;\n",
       "    }\n",
       "\n",
       "    .dataframe tbody tr th {\n",
       "        vertical-align: top;\n",
       "    }\n",
       "\n",
       "    .dataframe thead th {\n",
       "        text-align: right;\n",
       "    }\n",
       "</style>\n",
       "<table border=\"1\" class=\"dataframe\">\n",
       "  <thead>\n",
       "    <tr style=\"text-align: right;\">\n",
       "      <th></th>\n",
       "      <th>Time</th>\n",
       "      <th>V1</th>\n",
       "      <th>V2</th>\n",
       "      <th>V3</th>\n",
       "      <th>V4</th>\n",
       "      <th>V5</th>\n",
       "      <th>V6</th>\n",
       "      <th>V7</th>\n",
       "      <th>V8</th>\n",
       "      <th>V9</th>\n",
       "      <th>V10</th>\n",
       "      <th>V11</th>\n",
       "      <th>V12</th>\n",
       "      <th>V13</th>\n",
       "      <th>V14</th>\n",
       "      <th>V15</th>\n",
       "      <th>V16</th>\n",
       "      <th>V17</th>\n",
       "      <th>V18</th>\n",
       "      <th>V19</th>\n",
       "      <th>V20</th>\n",
       "      <th>V21</th>\n",
       "      <th>V22</th>\n",
       "      <th>V23</th>\n",
       "      <th>V24</th>\n",
       "      <th>V25</th>\n",
       "      <th>V26</th>\n",
       "      <th>V27</th>\n",
       "      <th>V28</th>\n",
       "      <th>Amount</th>\n",
       "      <th>Class</th>\n",
       "    </tr>\n",
       "  </thead>\n",
       "  <tbody>\n",
       "    <tr>\n",
       "      <th>383</th>\n",
       "      <td>282.0</td>\n",
       "      <td>-0.356466</td>\n",
       "      <td>0.725418</td>\n",
       "      <td>1.971749</td>\n",
       "      <td>0.831343</td>\n",
       "      <td>0.369681</td>\n",
       "      <td>-0.107776</td>\n",
       "      <td>0.751610</td>\n",
       "      <td>-0.120166</td>\n",
       "      <td>-0.420675</td>\n",
       "      <td>-0.059943</td>\n",
       "      <td>-0.508270</td>\n",
       "      <td>0.425506</td>\n",
       "      <td>0.414309</td>\n",
       "      <td>-0.698375</td>\n",
       "      <td>-1.465349</td>\n",
       "      <td>-0.119009</td>\n",
       "      <td>-0.144735</td>\n",
       "      <td>-1.332221</td>\n",
       "      <td>-1.547440</td>\n",
       "      <td>-0.133602</td>\n",
       "      <td>0.020804</td>\n",
       "      <td>0.424312</td>\n",
       "      <td>-0.015989</td>\n",
       "      <td>0.466754</td>\n",
       "      <td>-0.809962</td>\n",
       "      <td>0.657334</td>\n",
       "      <td>-0.043150</td>\n",
       "      <td>-0.046401</td>\n",
       "      <td>0.0</td>\n",
       "      <td>0</td>\n",
       "    </tr>\n",
       "    <tr>\n",
       "      <th>514</th>\n",
       "      <td>380.0</td>\n",
       "      <td>-1.299837</td>\n",
       "      <td>0.881817</td>\n",
       "      <td>1.452842</td>\n",
       "      <td>-1.293698</td>\n",
       "      <td>-0.025105</td>\n",
       "      <td>-1.170103</td>\n",
       "      <td>0.861610</td>\n",
       "      <td>-0.193934</td>\n",
       "      <td>0.592001</td>\n",
       "      <td>0.241979</td>\n",
       "      <td>0.144973</td>\n",
       "      <td>-0.583891</td>\n",
       "      <td>-1.595345</td>\n",
       "      <td>0.032613</td>\n",
       "      <td>0.752834</td>\n",
       "      <td>-0.094286</td>\n",
       "      <td>-0.163427</td>\n",
       "      <td>-1.111176</td>\n",
       "      <td>-1.124025</td>\n",
       "      <td>0.065979</td>\n",
       "      <td>-0.272563</td>\n",
       "      <td>-0.360853</td>\n",
       "      <td>0.223911</td>\n",
       "      <td>0.598930</td>\n",
       "      <td>-0.397705</td>\n",
       "      <td>0.637141</td>\n",
       "      <td>0.234872</td>\n",
       "      <td>0.021379</td>\n",
       "      <td>0.0</td>\n",
       "      <td>0</td>\n",
       "    </tr>\n",
       "    <tr>\n",
       "      <th>534</th>\n",
       "      <td>403.0</td>\n",
       "      <td>1.237413</td>\n",
       "      <td>0.512365</td>\n",
       "      <td>0.687746</td>\n",
       "      <td>1.693872</td>\n",
       "      <td>-0.236323</td>\n",
       "      <td>-0.650232</td>\n",
       "      <td>0.118066</td>\n",
       "      <td>-0.230545</td>\n",
       "      <td>-0.808523</td>\n",
       "      <td>0.511284</td>\n",
       "      <td>-0.178159</td>\n",
       "      <td>0.762909</td>\n",
       "      <td>1.700923</td>\n",
       "      <td>-0.133861</td>\n",
       "      <td>0.402418</td>\n",
       "      <td>0.684668</td>\n",
       "      <td>-0.609395</td>\n",
       "      <td>-0.704277</td>\n",
       "      <td>-0.720726</td>\n",
       "      <td>-0.006716</td>\n",
       "      <td>-0.077543</td>\n",
       "      <td>-0.178220</td>\n",
       "      <td>0.038722</td>\n",
       "      <td>0.471218</td>\n",
       "      <td>0.289249</td>\n",
       "      <td>0.871803</td>\n",
       "      <td>-0.066884</td>\n",
       "      <td>0.012986</td>\n",
       "      <td>0.0</td>\n",
       "      <td>0</td>\n",
       "    </tr>\n",
       "    <tr>\n",
       "      <th>541</th>\n",
       "      <td>406.0</td>\n",
       "      <td>-2.312227</td>\n",
       "      <td>1.951992</td>\n",
       "      <td>-1.609851</td>\n",
       "      <td>3.997906</td>\n",
       "      <td>-0.522188</td>\n",
       "      <td>-1.426545</td>\n",
       "      <td>-2.537387</td>\n",
       "      <td>1.391657</td>\n",
       "      <td>-2.770089</td>\n",
       "      <td>-2.772272</td>\n",
       "      <td>3.202033</td>\n",
       "      <td>-2.899907</td>\n",
       "      <td>-0.595222</td>\n",
       "      <td>-4.289254</td>\n",
       "      <td>0.389724</td>\n",
       "      <td>-1.140747</td>\n",
       "      <td>-2.830056</td>\n",
       "      <td>-0.016822</td>\n",
       "      <td>0.416956</td>\n",
       "      <td>0.126911</td>\n",
       "      <td>0.517232</td>\n",
       "      <td>-0.035049</td>\n",
       "      <td>-0.465211</td>\n",
       "      <td>0.320198</td>\n",
       "      <td>0.044519</td>\n",
       "      <td>0.177840</td>\n",
       "      <td>0.261145</td>\n",
       "      <td>-0.143276</td>\n",
       "      <td>0.0</td>\n",
       "      <td>1</td>\n",
       "    </tr>\n",
       "    <tr>\n",
       "      <th>575</th>\n",
       "      <td>430.0</td>\n",
       "      <td>-1.860258</td>\n",
       "      <td>-0.629859</td>\n",
       "      <td>0.966570</td>\n",
       "      <td>0.844632</td>\n",
       "      <td>0.759983</td>\n",
       "      <td>-1.481173</td>\n",
       "      <td>-0.509681</td>\n",
       "      <td>0.540722</td>\n",
       "      <td>-0.733623</td>\n",
       "      <td>-0.371622</td>\n",
       "      <td>0.859741</td>\n",
       "      <td>0.372609</td>\n",
       "      <td>-1.240185</td>\n",
       "      <td>0.998391</td>\n",
       "      <td>-0.346387</td>\n",
       "      <td>-0.391679</td>\n",
       "      <td>0.348289</td>\n",
       "      <td>0.282125</td>\n",
       "      <td>1.165893</td>\n",
       "      <td>0.320450</td>\n",
       "      <td>0.268028</td>\n",
       "      <td>0.125515</td>\n",
       "      <td>-0.225029</td>\n",
       "      <td>0.586664</td>\n",
       "      <td>-0.031598</td>\n",
       "      <td>0.570168</td>\n",
       "      <td>-0.043007</td>\n",
       "      <td>-0.223739</td>\n",
       "      <td>0.0</td>\n",
       "      <td>0</td>\n",
       "    </tr>\n",
       "    <tr>\n",
       "      <th>936</th>\n",
       "      <td>711.0</td>\n",
       "      <td>-0.431349</td>\n",
       "      <td>1.027694</td>\n",
       "      <td>2.670816</td>\n",
       "      <td>2.084787</td>\n",
       "      <td>-0.274567</td>\n",
       "      <td>0.286856</td>\n",
       "      <td>0.152110</td>\n",
       "      <td>0.200872</td>\n",
       "      <td>-0.596505</td>\n",
       "      <td>0.022224</td>\n",
       "      <td>-0.993674</td>\n",
       "      <td>0.244681</td>\n",
       "      <td>0.711846</td>\n",
       "      <td>-0.666973</td>\n",
       "      <td>-0.600267</td>\n",
       "      <td>0.480204</td>\n",
       "      <td>-0.438582</td>\n",
       "      <td>-0.119475</td>\n",
       "      <td>-0.681539</td>\n",
       "      <td>-0.057886</td>\n",
       "      <td>0.001241</td>\n",
       "      <td>0.154170</td>\n",
       "      <td>-0.141533</td>\n",
       "      <td>0.384610</td>\n",
       "      <td>-0.147132</td>\n",
       "      <td>-0.087100</td>\n",
       "      <td>0.101117</td>\n",
       "      <td>0.077944</td>\n",
       "      <td>0.0</td>\n",
       "      <td>0</td>\n",
       "    </tr>\n",
       "    <tr>\n",
       "      <th>1059</th>\n",
       "      <td>804.0</td>\n",
       "      <td>1.181697</td>\n",
       "      <td>-0.007908</td>\n",
       "      <td>-0.066845</td>\n",
       "      <td>1.532223</td>\n",
       "      <td>1.728832</td>\n",
       "      <td>4.409885</td>\n",
       "      <td>-1.138816</td>\n",
       "      <td>1.164645</td>\n",
       "      <td>-0.020578</td>\n",
       "      <td>0.554216</td>\n",
       "      <td>-0.729227</td>\n",
       "      <td>-0.010698</td>\n",
       "      <td>-0.013586</td>\n",
       "      <td>-0.272330</td>\n",
       "      <td>-0.114823</td>\n",
       "      <td>0.947451</td>\n",
       "      <td>-0.914655</td>\n",
       "      <td>0.245244</td>\n",
       "      <td>-0.469550</td>\n",
       "      <td>-0.040382</td>\n",
       "      <td>-0.139920</td>\n",
       "      <td>-0.399563</td>\n",
       "      <td>0.010200</td>\n",
       "      <td>0.992235</td>\n",
       "      <td>0.457015</td>\n",
       "      <td>-0.027924</td>\n",
       "      <td>0.045273</td>\n",
       "      <td>0.028868</td>\n",
       "      <td>0.0</td>\n",
       "      <td>0</td>\n",
       "    </tr>\n",
       "    <tr>\n",
       "      <th>1072</th>\n",
       "      <td>820.0</td>\n",
       "      <td>-0.937481</td>\n",
       "      <td>0.401649</td>\n",
       "      <td>1.882689</td>\n",
       "      <td>-0.362001</td>\n",
       "      <td>0.751088</td>\n",
       "      <td>-0.899262</td>\n",
       "      <td>0.880557</td>\n",
       "      <td>-0.181650</td>\n",
       "      <td>-0.211657</td>\n",
       "      <td>-0.666699</td>\n",
       "      <td>-0.343746</td>\n",
       "      <td>-0.429064</td>\n",
       "      <td>-1.325857</td>\n",
       "      <td>0.100213</td>\n",
       "      <td>-0.143886</td>\n",
       "      <td>-0.613434</td>\n",
       "      <td>0.130665</td>\n",
       "      <td>-0.988969</td>\n",
       "      <td>-0.829912</td>\n",
       "      <td>-0.056409</td>\n",
       "      <td>-0.001757</td>\n",
       "      <td>0.097379</td>\n",
       "      <td>-0.324050</td>\n",
       "      <td>0.436521</td>\n",
       "      <td>0.509674</td>\n",
       "      <td>0.454116</td>\n",
       "      <td>-0.201804</td>\n",
       "      <td>-0.175439</td>\n",
       "      <td>0.0</td>\n",
       "      <td>0</td>\n",
       "    </tr>\n",
       "    <tr>\n",
       "      <th>1170</th>\n",
       "      <td>912.0</td>\n",
       "      <td>1.083003</td>\n",
       "      <td>0.201589</td>\n",
       "      <td>1.497664</td>\n",
       "      <td>2.661922</td>\n",
       "      <td>-0.621256</td>\n",
       "      <td>0.618554</td>\n",
       "      <td>-0.644140</td>\n",
       "      <td>0.310919</td>\n",
       "      <td>0.125964</td>\n",
       "      <td>0.453240</td>\n",
       "      <td>-0.755020</td>\n",
       "      <td>0.184041</td>\n",
       "      <td>-0.107569</td>\n",
       "      <td>-0.361091</td>\n",
       "      <td>-0.037247</td>\n",
       "      <td>0.334321</td>\n",
       "      <td>-0.129615</td>\n",
       "      <td>-0.633848</td>\n",
       "      <td>-1.199578</td>\n",
       "      <td>-0.203726</td>\n",
       "      <td>-0.060433</td>\n",
       "      <td>0.009647</td>\n",
       "      <td>0.077072</td>\n",
       "      <td>0.072141</td>\n",
       "      <td>0.220747</td>\n",
       "      <td>-0.013483</td>\n",
       "      <td>0.058596</td>\n",
       "      <td>0.032054</td>\n",
       "      <td>0.0</td>\n",
       "      <td>0</td>\n",
       "    </tr>\n",
       "    <tr>\n",
       "      <th>1526</th>\n",
       "      <td>1193.0</td>\n",
       "      <td>1.130646</td>\n",
       "      <td>0.625391</td>\n",
       "      <td>0.837987</td>\n",
       "      <td>2.506543</td>\n",
       "      <td>-0.107116</td>\n",
       "      <td>-0.245548</td>\n",
       "      <td>0.099603</td>\n",
       "      <td>-0.041457</td>\n",
       "      <td>-0.867319</td>\n",
       "      <td>0.623165</td>\n",
       "      <td>0.111591</td>\n",
       "      <td>0.503149</td>\n",
       "      <td>0.727329</td>\n",
       "      <td>0.174358</td>\n",
       "      <td>0.684883</td>\n",
       "      <td>0.293412</td>\n",
       "      <td>-0.288419</td>\n",
       "      <td>-0.952503</td>\n",
       "      <td>-1.491590</td>\n",
       "      <td>-0.153060</td>\n",
       "      <td>-0.017154</td>\n",
       "      <td>-0.014311</td>\n",
       "      <td>0.086559</td>\n",
       "      <td>0.393496</td>\n",
       "      <td>0.332062</td>\n",
       "      <td>-0.066378</td>\n",
       "      <td>0.013858</td>\n",
       "      <td>0.025382</td>\n",
       "      <td>0.0</td>\n",
       "      <td>0</td>\n",
       "    </tr>\n",
       "  </tbody>\n",
       "</table>\n",
       "</div>"
      ],
      "text/plain": [
       "        Time        V1        V2        V3        V4        V5        V6  \\\n",
       "383    282.0 -0.356466  0.725418  1.971749  0.831343  0.369681 -0.107776   \n",
       "514    380.0 -1.299837  0.881817  1.452842 -1.293698 -0.025105 -1.170103   \n",
       "534    403.0  1.237413  0.512365  0.687746  1.693872 -0.236323 -0.650232   \n",
       "541    406.0 -2.312227  1.951992 -1.609851  3.997906 -0.522188 -1.426545   \n",
       "575    430.0 -1.860258 -0.629859  0.966570  0.844632  0.759983 -1.481173   \n",
       "936    711.0 -0.431349  1.027694  2.670816  2.084787 -0.274567  0.286856   \n",
       "1059   804.0  1.181697 -0.007908 -0.066845  1.532223  1.728832  4.409885   \n",
       "1072   820.0 -0.937481  0.401649  1.882689 -0.362001  0.751088 -0.899262   \n",
       "1170   912.0  1.083003  0.201589  1.497664  2.661922 -0.621256  0.618554   \n",
       "1526  1193.0  1.130646  0.625391  0.837987  2.506543 -0.107116 -0.245548   \n",
       "\n",
       "            V7        V8        V9       V10       V11       V12       V13  \\\n",
       "383   0.751610 -0.120166 -0.420675 -0.059943 -0.508270  0.425506  0.414309   \n",
       "514   0.861610 -0.193934  0.592001  0.241979  0.144973 -0.583891 -1.595345   \n",
       "534   0.118066 -0.230545 -0.808523  0.511284 -0.178159  0.762909  1.700923   \n",
       "541  -2.537387  1.391657 -2.770089 -2.772272  3.202033 -2.899907 -0.595222   \n",
       "575  -0.509681  0.540722 -0.733623 -0.371622  0.859741  0.372609 -1.240185   \n",
       "936   0.152110  0.200872 -0.596505  0.022224 -0.993674  0.244681  0.711846   \n",
       "1059 -1.138816  1.164645 -0.020578  0.554216 -0.729227 -0.010698 -0.013586   \n",
       "1072  0.880557 -0.181650 -0.211657 -0.666699 -0.343746 -0.429064 -1.325857   \n",
       "1170 -0.644140  0.310919  0.125964  0.453240 -0.755020  0.184041 -0.107569   \n",
       "1526  0.099603 -0.041457 -0.867319  0.623165  0.111591  0.503149  0.727329   \n",
       "\n",
       "           V14       V15       V16       V17       V18       V19       V20  \\\n",
       "383  -0.698375 -1.465349 -0.119009 -0.144735 -1.332221 -1.547440 -0.133602   \n",
       "514   0.032613  0.752834 -0.094286 -0.163427 -1.111176 -1.124025  0.065979   \n",
       "534  -0.133861  0.402418  0.684668 -0.609395 -0.704277 -0.720726 -0.006716   \n",
       "541  -4.289254  0.389724 -1.140747 -2.830056 -0.016822  0.416956  0.126911   \n",
       "575   0.998391 -0.346387 -0.391679  0.348289  0.282125  1.165893  0.320450   \n",
       "936  -0.666973 -0.600267  0.480204 -0.438582 -0.119475 -0.681539 -0.057886   \n",
       "1059 -0.272330 -0.114823  0.947451 -0.914655  0.245244 -0.469550 -0.040382   \n",
       "1072  0.100213 -0.143886 -0.613434  0.130665 -0.988969 -0.829912 -0.056409   \n",
       "1170 -0.361091 -0.037247  0.334321 -0.129615 -0.633848 -1.199578 -0.203726   \n",
       "1526  0.174358  0.684883  0.293412 -0.288419 -0.952503 -1.491590 -0.153060   \n",
       "\n",
       "           V21       V22       V23       V24       V25       V26       V27  \\\n",
       "383   0.020804  0.424312 -0.015989  0.466754 -0.809962  0.657334 -0.043150   \n",
       "514  -0.272563 -0.360853  0.223911  0.598930 -0.397705  0.637141  0.234872   \n",
       "534  -0.077543 -0.178220  0.038722  0.471218  0.289249  0.871803 -0.066884   \n",
       "541   0.517232 -0.035049 -0.465211  0.320198  0.044519  0.177840  0.261145   \n",
       "575   0.268028  0.125515 -0.225029  0.586664 -0.031598  0.570168 -0.043007   \n",
       "936   0.001241  0.154170 -0.141533  0.384610 -0.147132 -0.087100  0.101117   \n",
       "1059 -0.139920 -0.399563  0.010200  0.992235  0.457015 -0.027924  0.045273   \n",
       "1072 -0.001757  0.097379 -0.324050  0.436521  0.509674  0.454116 -0.201804   \n",
       "1170 -0.060433  0.009647  0.077072  0.072141  0.220747 -0.013483  0.058596   \n",
       "1526 -0.017154 -0.014311  0.086559  0.393496  0.332062 -0.066378  0.013858   \n",
       "\n",
       "           V28  Amount  Class  \n",
       "383  -0.046401     0.0      0  \n",
       "514   0.021379     0.0      0  \n",
       "534   0.012986     0.0      0  \n",
       "541  -0.143276     0.0      1  \n",
       "575  -0.223739     0.0      0  \n",
       "936   0.077944     0.0      0  \n",
       "1059  0.028868     0.0      0  \n",
       "1072 -0.175439     0.0      0  \n",
       "1170  0.032054     0.0      0  \n",
       "1526  0.025382     0.0      0  "
      ]
     },
     "execution_count": 13,
     "metadata": {},
     "output_type": "execute_result"
    }
   ],
   "source": [
    "print('Records with zero values group by class')\n",
    "print(df[df['Amount']==0].groupby(\"Class\")['Class'].count())\n",
    "df[df['Amount']==0][0:10]"
   ]
  },
  {
   "cell_type": "markdown",
   "metadata": {},
   "source": [
    "1798 transactions had amount zero. 27 of these were marked as fraudulent transactions."
   ]
  },
  {
   "cell_type": "markdown",
   "metadata": {
    "ExecuteTime": {
     "end_time": "2020-03-24T07:52:39.066828Z",
     "start_time": "2020-03-24T07:52:39.064478Z"
    }
   },
   "source": [
    "#### Check Data Errors: Transactions with negative amount or time"
   ]
  },
  {
   "cell_type": "code",
   "execution_count": 14,
   "metadata": {
    "ExecuteTime": {
     "end_time": "2020-03-25T18:48:35.110717Z",
     "start_time": "2020-03-25T18:48:35.101881Z"
    }
   },
   "outputs": [
    {
     "name": "stdout",
     "output_type": "stream",
     "text": [
      "Negative Amount 0\n",
      "Negative Time 0\n"
     ]
    }
   ],
   "source": [
    "print(\"Negative Amount\",df[df['Amount']<0]['Amount'].count())\n",
    "print(\"Negative Time\",df[df['Time']<0]['Time'].count())"
   ]
  },
  {
   "cell_type": "markdown",
   "metadata": {
    "ExecuteTime": {
     "end_time": "2020-03-24T07:53:58.319055Z",
     "start_time": "2020-03-24T07:53:58.311771Z"
    }
   },
   "source": [
    "No transactions have negative amount"
   ]
  },
  {
   "cell_type": "markdown",
   "metadata": {},
   "source": [
    "#### Outliers"
   ]
  },
  {
   "cell_type": "code",
   "execution_count": 15,
   "metadata": {
    "ExecuteTime": {
     "end_time": "2020-03-25T18:48:40.741038Z",
     "start_time": "2020-03-25T18:48:35.113009Z"
    }
   },
   "outputs": [
    {
     "data": {
      "image/png": "[encoded data removed]",
      "text/plain": [
       "<Figure size 1080x2880 with 33 Axes>"
      ]
     },
     "metadata": {},
     "output_type": "display_data"
    }
   ],
   "source": [
    "# Boxplots\n",
    "# Creating a list of columns to check for outliers\n",
    "# Creating a list of colors\n",
    "#\n",
    "col_list = ['Time', 'V1', 'V2', 'V3', 'V4', 'V5', 'V6', 'V7', 'V8', 'V9', 'V10',\n",
    "       'V11', 'V12', 'V13', 'V14', 'V15', 'V16', 'V17', 'V18', 'V19', 'V20',\n",
    "       'V21', 'V22', 'V23', 'V24', 'V25', 'V26', 'V27', 'V28', 'Amount',\n",
    "       'Class']\n",
    "colors = ['blueviolet', 'darkorange', 'springgreen', 'fuchsia', 'darkorange', 'blueviolet', 'springgreen','blueviolet', 'darkorange', 'springgreen', 'fuchsia', 'darkorange', 'blueviolet', 'springgreen','blueviolet',\n",
    "         'blueviolet', 'darkorange', 'springgreen', 'fuchsia', 'darkorange', 'blueviolet', 'springgreen','blueviolet', 'darkorange', 'springgreen', 'fuchsia', 'darkorange', 'blueviolet', 'springgreen','blueviolet',\n",
    "         'blueviolet', 'darkorange', 'springgreen']\n",
    "\n",
    "# Plotting boxplots of the col_list columns to check for outliers\n",
    "#\n",
    "fig, axes = plt.subplots(nrows = 11, ncols = 3, figsize = (15, 40))\n",
    "plt.suptitle('Boxplots', fontsize = 15, y = 0.92, color = 'indigo')\n",
    "for ax, data, column, color in zip(axes.flatten(), df, col_list, colors):\n",
    "  sns.boxplot(df[column], ax = ax, color = color)\n",
    "  ax.set_facecolor('lavender') # Setting the background color to lavender"
   ]
  },
  {
   "cell_type": "markdown",
   "metadata": {
    "ExecuteTime": {
     "end_time": "2020-03-24T09:23:29.575735Z",
     "start_time": "2020-03-24T09:23:29.569839Z"
    }
   },
   "source": [
    "Amount has outliers from about as most of the transactions are of small amounts.\n",
    "\n",
    "All features scaled by PCA have outliers. \n",
    "\n",
    "No action to be done on these as they are valid transactions"
   ]
  },
  {
   "cell_type": "markdown",
   "metadata": {},
   "source": [
    "### Feature Engineering"
   ]
  },
  {
   "cell_type": "markdown",
   "metadata": {},
   "source": [
    "Convert time to hours"
   ]
  },
  {
   "cell_type": "code",
   "execution_count": 60,
   "metadata": {
    "ExecuteTime": {
     "end_time": "2020-03-26T08:08:40.872790Z",
     "start_time": "2020-03-26T08:08:37.342754Z"
    },
    "collapsed": true
   },
   "outputs": [],
   "source": [
    "timedelta = pd.to_timedelta(df['Time'], unit='s')\n",
    "df['Time_hour'] = (timedelta.dt.components.hours).astype(int)"
   ]
  },
  {
   "cell_type": "code",
   "execution_count": 62,
   "metadata": {
    "ExecuteTime": {
     "end_time": "2020-03-26T08:08:51.661370Z",
     "start_time": "2020-03-26T08:08:51.590796Z"
    }
   },
   "outputs": [
    {
     "data": {
      "text/html": [
       "<div>\n",
       "<style scoped>\n",
       "    .dataframe tbody tr th:only-of-type {\n",
       "        vertical-align: middle;\n",
       "    }\n",
       "\n",
       "    .dataframe tbody tr th {\n",
       "        vertical-align: top;\n",
       "    }\n",
       "\n",
       "    .dataframe thead th {\n",
       "        text-align: right;\n",
       "    }\n",
       "</style>\n",
       "<table border=\"1\" class=\"dataframe\">\n",
       "  <thead>\n",
       "    <tr style=\"text-align: right;\">\n",
       "      <th></th>\n",
       "      <th>Time</th>\n",
       "      <th>V1</th>\n",
       "      <th>V2</th>\n",
       "      <th>V3</th>\n",
       "      <th>V4</th>\n",
       "      <th>V5</th>\n",
       "      <th>V6</th>\n",
       "      <th>V7</th>\n",
       "      <th>V8</th>\n",
       "      <th>V9</th>\n",
       "      <th>V10</th>\n",
       "      <th>V11</th>\n",
       "      <th>V12</th>\n",
       "      <th>V13</th>\n",
       "      <th>V14</th>\n",
       "      <th>V15</th>\n",
       "      <th>V16</th>\n",
       "      <th>V17</th>\n",
       "      <th>V18</th>\n",
       "      <th>V19</th>\n",
       "      <th>V20</th>\n",
       "      <th>V21</th>\n",
       "      <th>V22</th>\n",
       "      <th>V23</th>\n",
       "      <th>V24</th>\n",
       "      <th>V25</th>\n",
       "      <th>V26</th>\n",
       "      <th>V27</th>\n",
       "      <th>V28</th>\n",
       "      <th>Amount</th>\n",
       "      <th>Class</th>\n",
       "      <th>Time_hour</th>\n",
       "    </tr>\n",
       "  </thead>\n",
       "  <tbody>\n",
       "    <tr>\n",
       "      <th>89050</th>\n",
       "      <td>62402.0</td>\n",
       "      <td>-0.761702</td>\n",
       "      <td>1.229080</td>\n",
       "      <td>0.766593</td>\n",
       "      <td>-0.130789</td>\n",
       "      <td>0.069270</td>\n",
       "      <td>-0.043654</td>\n",
       "      <td>0.187701</td>\n",
       "      <td>0.670255</td>\n",
       "      <td>-0.774439</td>\n",
       "      <td>-0.612675</td>\n",
       "      <td>1.229189</td>\n",
       "      <td>0.625753</td>\n",
       "      <td>-0.088203</td>\n",
       "      <td>0.137283</td>\n",
       "      <td>0.455343</td>\n",
       "      <td>0.516796</td>\n",
       "      <td>0.097134</td>\n",
       "      <td>0.084688</td>\n",
       "      <td>-0.042221</td>\n",
       "      <td>0.004700</td>\n",
       "      <td>-0.159609</td>\n",
       "      <td>-0.552876</td>\n",
       "      <td>0.046039</td>\n",
       "      <td>-0.367835</td>\n",
       "      <td>-0.198453</td>\n",
       "      <td>0.107319</td>\n",
       "      <td>0.127229</td>\n",
       "      <td>0.018760</td>\n",
       "      <td>14.99</td>\n",
       "      <td>0</td>\n",
       "      <td>17</td>\n",
       "    </tr>\n",
       "    <tr>\n",
       "      <th>32744</th>\n",
       "      <td>36949.0</td>\n",
       "      <td>-0.271980</td>\n",
       "      <td>-2.286364</td>\n",
       "      <td>-1.005151</td>\n",
       "      <td>1.473186</td>\n",
       "      <td>-0.416562</td>\n",
       "      <td>0.486406</td>\n",
       "      <td>1.081217</td>\n",
       "      <td>-0.188882</td>\n",
       "      <td>-0.308682</td>\n",
       "      <td>-0.144103</td>\n",
       "      <td>0.163687</td>\n",
       "      <td>0.566156</td>\n",
       "      <td>0.521819</td>\n",
       "      <td>0.589565</td>\n",
       "      <td>0.411257</td>\n",
       "      <td>0.821506</td>\n",
       "      <td>-1.182824</td>\n",
       "      <td>0.990176</td>\n",
       "      <td>0.045621</td>\n",
       "      <td>1.562987</td>\n",
       "      <td>0.526453</td>\n",
       "      <td>-0.282385</td>\n",
       "      <td>-0.993470</td>\n",
       "      <td>-0.905163</td>\n",
       "      <td>0.528146</td>\n",
       "      <td>-0.304487</td>\n",
       "      <td>-0.138065</td>\n",
       "      <td>0.139315</td>\n",
       "      <td>809.00</td>\n",
       "      <td>0</td>\n",
       "      <td>10</td>\n",
       "    </tr>\n",
       "    <tr>\n",
       "      <th>224521</th>\n",
       "      <td>143841.0</td>\n",
       "      <td>2.265939</td>\n",
       "      <td>-0.528700</td>\n",
       "      <td>-2.345531</td>\n",
       "      <td>-0.921527</td>\n",
       "      <td>0.009884</td>\n",
       "      <td>-1.722901</td>\n",
       "      <td>0.299076</td>\n",
       "      <td>-0.502326</td>\n",
       "      <td>-1.109081</td>\n",
       "      <td>1.157544</td>\n",
       "      <td>0.831120</td>\n",
       "      <td>-0.696774</td>\n",
       "      <td>-1.608534</td>\n",
       "      <td>0.917588</td>\n",
       "      <td>-1.098708</td>\n",
       "      <td>0.287677</td>\n",
       "      <td>0.418397</td>\n",
       "      <td>-1.134033</td>\n",
       "      <td>1.015815</td>\n",
       "      <td>-0.177903</td>\n",
       "      <td>0.513513</td>\n",
       "      <td>1.494991</td>\n",
       "      <td>-0.204400</td>\n",
       "      <td>0.142671</td>\n",
       "      <td>0.678817</td>\n",
       "      <td>0.280572</td>\n",
       "      <td>-0.106261</td>\n",
       "      <td>-0.106948</td>\n",
       "      <td>1.79</td>\n",
       "      <td>0</td>\n",
       "      <td>15</td>\n",
       "    </tr>\n",
       "    <tr>\n",
       "      <th>65479</th>\n",
       "      <td>51603.0</td>\n",
       "      <td>-0.719207</td>\n",
       "      <td>0.779626</td>\n",
       "      <td>1.937894</td>\n",
       "      <td>-0.530865</td>\n",
       "      <td>0.406526</td>\n",
       "      <td>-0.340402</td>\n",
       "      <td>0.601786</td>\n",
       "      <td>0.137095</td>\n",
       "      <td>-0.912934</td>\n",
       "      <td>-0.668291</td>\n",
       "      <td>1.810529</td>\n",
       "      <td>1.283245</td>\n",
       "      <td>0.734410</td>\n",
       "      <td>0.173485</td>\n",
       "      <td>-0.059466</td>\n",
       "      <td>0.289038</td>\n",
       "      <td>-0.576193</td>\n",
       "      <td>-0.568215</td>\n",
       "      <td>-0.791468</td>\n",
       "      <td>-0.045766</td>\n",
       "      <td>-0.114895</td>\n",
       "      <td>-0.448577</td>\n",
       "      <td>-0.091192</td>\n",
       "      <td>0.223174</td>\n",
       "      <td>0.191762</td>\n",
       "      <td>0.015543</td>\n",
       "      <td>-0.066244</td>\n",
       "      <td>-0.035279</td>\n",
       "      <td>1.29</td>\n",
       "      <td>0</td>\n",
       "      <td>14</td>\n",
       "    </tr>\n",
       "    <tr>\n",
       "      <th>160595</th>\n",
       "      <td>113482.0</td>\n",
       "      <td>-1.269638</td>\n",
       "      <td>0.820937</td>\n",
       "      <td>0.202775</td>\n",
       "      <td>-0.660703</td>\n",
       "      <td>0.605841</td>\n",
       "      <td>-1.273238</td>\n",
       "      <td>0.856143</td>\n",
       "      <td>-0.247667</td>\n",
       "      <td>0.478743</td>\n",
       "      <td>0.386734</td>\n",
       "      <td>-0.906034</td>\n",
       "      <td>-0.025944</td>\n",
       "      <td>-0.213068</td>\n",
       "      <td>-0.101032</td>\n",
       "      <td>-0.219990</td>\n",
       "      <td>-0.065056</td>\n",
       "      <td>-0.451489</td>\n",
       "      <td>-0.770925</td>\n",
       "      <td>-0.058997</td>\n",
       "      <td>-0.089941</td>\n",
       "      <td>-0.448249</td>\n",
       "      <td>-0.776603</td>\n",
       "      <td>0.213749</td>\n",
       "      <td>-0.038256</td>\n",
       "      <td>0.185801</td>\n",
       "      <td>0.230292</td>\n",
       "      <td>0.221616</td>\n",
       "      <td>0.141157</td>\n",
       "      <td>0.89</td>\n",
       "      <td>0</td>\n",
       "      <td>7</td>\n",
       "    </tr>\n",
       "  </tbody>\n",
       "</table>\n",
       "</div>"
      ],
      "text/plain": [
       "            Time        V1        V2        V3        V4        V5        V6  \\\n",
       "89050    62402.0 -0.761702  1.229080  0.766593 -0.130789  0.069270 -0.043654   \n",
       "32744    36949.0 -0.271980 -2.286364 -1.005151  1.473186 -0.416562  0.486406   \n",
       "224521  143841.0  2.265939 -0.528700 -2.345531 -0.921527  0.009884 -1.722901   \n",
       "65479    51603.0 -0.719207  0.779626  1.937894 -0.530865  0.406526 -0.340402   \n",
       "160595  113482.0 -1.269638  0.820937  0.202775 -0.660703  0.605841 -1.273238   \n",
       "\n",
       "              V7        V8        V9       V10       V11       V12       V13  \\\n",
       "89050   0.187701  0.670255 -0.774439 -0.612675  1.229189  0.625753 -0.088203   \n",
       "32744   1.081217 -0.188882 -0.308682 -0.144103  0.163687  0.566156  0.521819   \n",
       "224521  0.299076 -0.502326 -1.109081  1.157544  0.831120 -0.696774 -1.608534   \n",
       "65479   0.601786  0.137095 -0.912934 -0.668291  1.810529  1.283245  0.734410   \n",
       "160595  0.856143 -0.247667  0.478743  0.386734 -0.906034 -0.025944 -0.213068   \n",
       "\n",
       "             V14       V15       V16       V17       V18       V19       V20  \\\n",
       "89050   0.137283  0.455343  0.516796  0.097134  0.084688 -0.042221  0.004700   \n",
       "32744   0.589565  0.411257  0.821506 -1.182824  0.990176  0.045621  1.562987   \n",
       "224521  0.917588 -1.098708  0.287677  0.418397 -1.134033  1.015815 -0.177903   \n",
       "65479   0.173485 -0.059466  0.289038 -0.576193 -0.568215 -0.791468 -0.045766   \n",
       "160595 -0.101032 -0.219990 -0.065056 -0.451489 -0.770925 -0.058997 -0.089941   \n",
       "\n",
       "             V21       V22       V23       V24       V25       V26       V27  \\\n",
       "89050  -0.159609 -0.552876  0.046039 -0.367835 -0.198453  0.107319  0.127229   \n",
       "32744   0.526453 -0.282385 -0.993470 -0.905163  0.528146 -0.304487 -0.138065   \n",
       "224521  0.513513  1.494991 -0.204400  0.142671  0.678817  0.280572 -0.106261   \n",
       "65479  -0.114895 -0.448577 -0.091192  0.223174  0.191762  0.015543 -0.066244   \n",
       "160595 -0.448249 -0.776603  0.213749 -0.038256  0.185801  0.230292  0.221616   \n",
       "\n",
       "             V28  Amount  Class  Time_hour  \n",
       "89050   0.018760   14.99      0         17  \n",
       "32744   0.139315  809.00      0         10  \n",
       "224521 -0.106948    1.79      0         15  \n",
       "65479  -0.035279    1.29      0         14  \n",
       "160595  0.141157    0.89      0          7  "
      ]
     },
     "execution_count": 62,
     "metadata": {},
     "output_type": "execute_result"
    }
   ],
   "source": [
    "df.sample(5)"
   ]
  },
  {
   "cell_type": "markdown",
   "metadata": {},
   "source": [
    "### Univariate Analysis"
   ]
  },
  {
   "cell_type": "markdown",
   "metadata": {
    "ExecuteTime": {
     "end_time": "2020-03-17T15:44:28.538851Z",
     "start_time": "2020-03-17T15:44:28.536169Z"
    }
   },
   "source": [
    "#### Time and Amount distribution"
   ]
  },
  {
   "cell_type": "code",
   "execution_count": 190,
   "metadata": {
    "ExecuteTime": {
     "end_time": "2020-03-26T11:00:20.679674Z",
     "start_time": "2020-03-26T11:00:19.362313Z"
    }
   },
   "outputs": [
    {
     "data": {
      "image/png": "[encoded data removed]",
      "text/plain": [
       "<Figure size 432x288 with 1 Axes>"
      ]
     },
     "metadata": {},
     "output_type": "display_data"
    }
   ],
   "source": [
    "sns.distplot(df['Amount'].values,  color='b')\n",
    "plt.title('Distribution of Transaction Amount', fontsize=14)\n",
    "\n",
    "plt.show()"
   ]
  },
  {
   "cell_type": "markdown",
   "metadata": {},
   "source": [
    "#### Class Distribution"
   ]
  },
  {
   "cell_type": "code",
   "execution_count": 18,
   "metadata": {
    "ExecuteTime": {
     "end_time": "2020-03-25T18:48:48.742740Z",
     "start_time": "2020-03-25T18:48:48.490764Z"
    }
   },
   "outputs": [
    {
     "data": {
      "image/png": "[encoded data removed]",
      "text/plain": [
       "<Figure size 432x288 with 1 Axes>"
      ]
     },
     "metadata": {},
     "output_type": "display_data"
    }
   ],
   "source": [
    "sns.set_style('whitegrid')\n",
    "sns.countplot(df['Class'])\n",
    "plt.show()"
   ]
  },
  {
   "cell_type": "code",
   "execution_count": 53,
   "metadata": {
    "ExecuteTime": {
     "end_time": "2020-03-26T07:53:27.087776Z",
     "start_time": "2020-03-26T07:53:26.938544Z"
    }
   },
   "outputs": [
    {
     "data": {
      "image/png": "[encoded data removed]",
      "text/plain": [
       "<Figure size 720x360 with 1 Axes>"
      ]
     },
     "metadata": {},
     "output_type": "display_data"
    },
    {
     "data": {
      "text/html": [
       "<div>\n",
       "<style scoped>\n",
       "    .dataframe tbody tr th:only-of-type {\n",
       "        vertical-align: middle;\n",
       "    }\n",
       "\n",
       "    .dataframe tbody tr th {\n",
       "        vertical-align: top;\n",
       "    }\n",
       "\n",
       "    .dataframe thead th {\n",
       "        text-align: right;\n",
       "    }\n",
       "</style>\n",
       "<table border=\"1\" class=\"dataframe\">\n",
       "  <thead>\n",
       "    <tr style=\"text-align: right;\">\n",
       "      <th></th>\n",
       "      <th>Target</th>\n",
       "      <th>Count</th>\n",
       "      <th>percent</th>\n",
       "    </tr>\n",
       "  </thead>\n",
       "  <tbody>\n",
       "    <tr>\n",
       "      <th>0</th>\n",
       "      <td>0</td>\n",
       "      <td>284315</td>\n",
       "      <td>99.83</td>\n",
       "    </tr>\n",
       "    <tr>\n",
       "      <th>1</th>\n",
       "      <td>1</td>\n",
       "      <td>492</td>\n",
       "      <td>0.17</td>\n",
       "    </tr>\n",
       "  </tbody>\n",
       "</table>\n",
       "</div>"
      ],
      "text/plain": [
       "   Target   Count  percent\n",
       "0       0  284315    99.83\n",
       "1       1     492     0.17"
      ]
     },
     "execution_count": 53,
     "metadata": {},
     "output_type": "execute_result"
    }
   ],
   "source": [
    "# Pie chart to display class values\n",
    "sns.set_style('whitegrid')\n",
    "df['Class'].value_counts().plot(kind='pie', subplots=True, figsize=(10, 5), autopct='%1.2f%%')\n",
    "plt.show()\n",
    "d = df.Class.value_counts()\n",
    "\n",
    "\n",
    "# calculating the total percentage of our transactions\n",
    "imbal = df['Class'].value_counts().to_frame().reset_index()\n",
    "imbal['percent'] = imbal[\"Class\"].apply(lambda x : round(100*float(x) / len(df), 2))\n",
    "imbal = imbal.rename(columns = {\"index\" : \"Target\", \"Class\" : \"Count\"})\n",
    "imbal"
   ]
  },
  {
   "cell_type": "markdown",
   "metadata": {
    "ExecuteTime": {
     "end_time": "2020-03-17T15:43:57.490985Z",
     "start_time": "2020-03-17T15:43:57.486144Z"
    }
   },
   "source": [
    "The target label feature i.e 'Class' is highly imbalanced. Only 0.17% i.e 492 transactions are fraudlent. 99.8% i.e 284,315 are valid transactions"
   ]
  },
  {
   "cell_type": "markdown",
   "metadata": {},
   "source": [
    "## Bivariate Analysis"
   ]
  },
  {
   "cell_type": "markdown",
   "metadata": {},
   "source": [
    "#### Fraud transactions per hour"
   ]
  },
  {
   "cell_type": "code",
   "execution_count": 66,
   "metadata": {
    "ExecuteTime": {
     "end_time": "2020-03-26T08:10:32.599036Z",
     "start_time": "2020-03-26T08:10:31.356449Z"
    }
   },
   "outputs": [
    {
     "data": {
      "image/png": "[encoded data removed]",
      "text/plain": [
       "<Figure size 936x720 with 1 Axes>"
      ]
     },
     "metadata": {},
     "output_type": "display_data"
    }
   ],
   "source": [
    "# Plotting our transactions per hour\n",
    "sns.distplot(df[df['Class'] == 0][\"Time_hour\"], color='b',bins =25)\n",
    "sns.distplot(df[df['Class'] == 1][\"Time_hour\"], color='g',bins =25)\n",
    "plt.title('Fraud and Normal Transactions by Hours', fontsize=17)\n",
    "plt.xlim([-1,25])\n",
    "plt.show()"
   ]
  },
  {
   "cell_type": "markdown",
   "metadata": {
    "ExecuteTime": {
     "end_time": "2020-03-26T08:13:48.716657Z",
     "start_time": "2020-03-26T08:13:48.711053Z"
    }
   },
   "source": [
    "- There are fraud transactions noted at night with 2 a.m being a peak.\n",
    "- At 11 a.m there was also a high fraudulent transactions.\n",
    "- Midday no fraud noted which is interesting. Is it a missing data scenario?\n",
    "- Afternoon  fraud picks up before reducing at night.\n",
    "\n",
    "In summary, fraud transactions are perpetuated throughout the day"
   ]
  },
  {
   "cell_type": "markdown",
   "metadata": {},
   "source": [
    "#### Transaction Amounts per Fraud or Not Fraud Classes"
   ]
  },
  {
   "cell_type": "code",
   "execution_count": 72,
   "metadata": {
    "ExecuteTime": {
     "end_time": "2020-03-26T08:16:16.852677Z",
     "start_time": "2020-03-26T08:16:15.551971Z"
    }
   },
   "outputs": [
    {
     "data": {
      "image/png": "[encoded data removed]",
      "text/plain": [
       "<Figure size 936x720 with 2 Axes>"
      ]
     },
     "metadata": {},
     "output_type": "display_data"
    }
   ],
   "source": [
    "f, (ax1, ax2) = plt.subplots(2, 1, sharex=True)\n",
    "f.suptitle('Amount per transaction by class')\n",
    "ax1.hist(df[df['Class']==1]['Amount'], bins = 50)\n",
    "ax1.set_title('Fraud')\n",
    "ax2.hist(df[df['Class']==0]['Amount'], bins = 50)\n",
    "ax2.set_title('Normal')\n",
    "plt.xlabel('Amount ($)')\n",
    "plt.ylabel('Number of Transactions')\n",
    "plt.xlim((0, 20000))\n",
    "plt.yscale('log')\n",
    "plt.show();"
   ]
  },
  {
   "cell_type": "markdown",
   "metadata": {},
   "source": [
    "Fraudlent transactions are largely less than a thousand euros with most being in 0 to 500 bin."
   ]
  },
  {
   "cell_type": "markdown",
   "metadata": {},
   "source": [
    "#### Correlation"
   ]
  },
  {
   "cell_type": "code",
   "execution_count": 23,
   "metadata": {
    "ExecuteTime": {
     "end_time": "2020-03-25T18:48:55.954222Z",
     "start_time": "2020-03-25T18:48:54.037361Z"
    }
   },
   "outputs": [
    {
     "data": {
      "image/png": "[encoded data removed]",
      "text/plain": [
       "<Figure size 1728x1440 with 2 Axes>"
      ]
     },
     "metadata": {},
     "output_type": "display_data"
    }
   ],
   "source": [
    "# Calculate pearson correlation coefficience\n",
    "corr = df.corr() \n",
    "\n",
    "# Plot heatmap of correlation\n",
    "f, ax = plt.subplots(1, 1, figsize=(24,20))\n",
    "sns.heatmap(corr, cmap='coolwarm_r', annot_kws={'size':20})\n",
    "ax.set_title(\"Imbalanced Correlation Matrix\", fontsize=24)\n",
    "plt.show()"
   ]
  },
  {
   "cell_type": "markdown",
   "metadata": {},
   "source": [
    "#### Summary\n",
    "\n",
    "- There is no correlation between scaled features V1 to V28 PCA components\n",
    "- Class has some form positive and negative correlations with the V components e.g (+ve in V14, V17) but has no correlation \n",
    "with Time and Amount\n",
    "\n",
    "- Negative correlation between V2,V5 and Amount.\n",
    "\n",
    "- Positive correlation between V7, V20 and Amount."
   ]
  },
  {
   "cell_type": "markdown",
   "metadata": {},
   "source": [
    "## K-Means\n",
    "\n",
    "Objective behind k-means clustering, is to define clusters such that the total intra-cluster variation [or total within-cluster sum of square (WSS)] is minimized. The total WSS measures the compactness of the clustering and we want it to be as small as possible."
   ]
  },
  {
   "cell_type": "markdown",
   "metadata": {},
   "source": [
    "### Remove Class Label From Dataset as it's unsupervised\n",
    "Remove the class label to ensure we have unlabeled data"
   ]
  },
  {
   "cell_type": "code",
   "execution_count": 83,
   "metadata": {
    "ExecuteTime": {
     "end_time": "2020-03-26T08:52:38.617191Z",
     "start_time": "2020-03-26T08:52:38.537639Z"
    }
   },
   "outputs": [],
   "source": [
    "# Dependent Variable\n",
    "class_label = df['Class']\n",
    "\n",
    "# Independent Variables\n",
    "df_features = df.drop(['Class'], axis=1)\n",
    "df_features.head()\n",
    "\n",
    "# Determine Number Of Fraud Cases In DataSet\n",
    "Fraud = df[df['Class'] == 1]\n",
    "Valid = df[df['Class'] == 0]"
   ]
  },
  {
   "cell_type": "markdown",
   "metadata": {},
   "source": [
    "\n",
    "### Determine optimal number of K clusters using Elbow method used. \n",
    "\n",
    "Train multiple models using a different number of clusters and storing the value of the intertia_ property every time."
   ]
  },
  {
   "cell_type": "code",
   "execution_count": 80,
   "metadata": {
    "ExecuteTime": {
     "end_time": "2020-03-26T08:49:05.757038Z",
     "start_time": "2020-03-26T08:46:58.608822Z"
    }
   },
   "outputs": [
    {
     "data": {
      "image/png": "[encoded data removed]",
      "text/plain": [
       "<Figure size 936x720 with 1 Axes>"
      ]
     },
     "metadata": {},
     "output_type": "display_data"
    }
   ],
   "source": [
    "wcss = []\n",
    "for i in range(1, 11):\n",
    "    kmeans = KMeans(n_clusters=i, init='k-means++', max_iter=300, n_init=10, random_state=0)\n",
    "    kmeans.fit(df_features)\n",
    "    wcss.append(kmeans.inertia_)\n",
    "plt.plot(range(1, 11), wcss)\n",
    "plt.title('Elbow Method')\n",
    "plt.xlabel('Number of clusters')\n",
    "plt.ylabel('WCSS')\n",
    "plt.show()"
   ]
  },
  {
   "cell_type": "markdown",
   "metadata": {},
   "source": [
    "Optimal number of k is 2.\n",
    "\n",
    "Anyway, we want to cluster the dataset into fraud and non fraud so clusters will be 2."
   ]
  },
  {
   "cell_type": "markdown",
   "metadata": {},
   "source": [
    "### Baseline KNN"
   ]
  },
  {
   "cell_type": "code",
   "execution_count": 96,
   "metadata": {
    "ExecuteTime": {
     "end_time": "2020-03-26T09:15:43.241970Z",
     "start_time": "2020-03-26T09:15:37.201141Z"
    }
   },
   "outputs": [
    {
     "data": {
      "image/png": "[encoded data removed]",
      "text/plain": [
       "<Figure size 432x288 with 1 Axes>"
      ]
     },
     "metadata": {},
     "output_type": "display_data"
    }
   ],
   "source": [
    "kmeans = KMeans(n_clusters=2, max_iter=600, algorithm = 'auto')\n",
    "pred_y = kmeans.fit_predict(df_features) #fit_predict\n",
    "\n",
    "#Categorize the data using the optimum number of clusters\n",
    "plt.scatter(df_features.iloc[:,0], df_features.iloc[:,1])\n",
    "plt.scatter(kmeans.cluster_centers_[:, 0], kmeans.cluster_centers_[:, 1], s=300, c='red')\n",
    "plt.show()"
   ]
  },
  {
   "cell_type": "code",
   "execution_count": 90,
   "metadata": {
    "ExecuteTime": {
     "end_time": "2020-03-26T08:58:58.926356Z",
     "start_time": "2020-03-26T08:58:52.868892Z"
    }
   },
   "outputs": [
    {
     "name": "stdout",
     "output_type": "stream",
     "text": [
      "Correct:  162  Fraud 492\n",
      "0.32926829268292684\n"
     ]
    }
   ],
   "source": [
    "#Calculate correct prediction\n",
    "correct = 0\n",
    "for i in range(len(class_label)):\n",
    "    if pred_y[i] == class_label[i] and pred_y[i] ==1:\n",
    "        correct += 1\n",
    "print(\"Correct: \", correct, \" Fraud\", len(Fraud))\n",
    "print(correct/len(Fraud))"
   ]
  },
  {
   "cell_type": "code",
   "execution_count": 117,
   "metadata": {
    "ExecuteTime": {
     "end_time": "2020-03-26T09:27:55.263731Z",
     "start_time": "2020-03-26T09:27:54.870321Z"
    }
   },
   "outputs": [
    {
     "name": "stdout",
     "output_type": "stream",
     "text": [
      "Confusion Matrix:\n",
      " [[152833 131482]\n",
      " [   330    162]]\n",
      "kmeans_precison_score: 0.0012305915955151774\n",
      "kmeans_recall_score: 0.32926829268292684\n",
      "kmeans_accuracy_score: 0.5371883415786831\n",
      "kmeans_f1_score: 0.0024520191318035964\n"
     ]
    }
   ],
   "source": [
    "# Calculating confusion matrix for kmeans\n",
    "print('Confusion Matrix:\\n',confusion_matrix(class_label,pred_y))\n",
    "# Scoring kmeans\n",
    "print('kmeans_precison_score:', precision_score(class_label,pred_y))\n",
    "print('kmeans_recall_score:', recall_score(class_label,pred_y))\n",
    "print('kmeans_accuracy_score:', accuracy_score(class_label,pred_y))\n",
    "print('kmeans_f1_score:',f1_score(class_label,pred_y))"
   ]
  },
  {
   "cell_type": "markdown",
   "metadata": {},
   "source": [
    "### Kmeans using Test Split"
   ]
  },
  {
   "cell_type": "markdown",
   "metadata": {},
   "source": [
    "Split the data into test and train at 30, 70 ratio"
   ]
  },
  {
   "cell_type": "code",
   "execution_count": 106,
   "metadata": {
    "ExecuteTime": {
     "end_time": "2020-03-26T09:20:56.021844Z",
     "start_time": "2020-03-26T09:20:55.828843Z"
    }
   },
   "outputs": [],
   "source": [
    "# Split the data into train set and test set\n",
    "train,test = train_test_split(df,test_size=0.3,random_state=0)\n",
    "\n",
    "# Get the arrays of features and labels in train dataset\n",
    "features_train = train.drop(['Class'],axis=1).values\n",
    "labels_train = pd.DataFrame(train[['Class']]).values\n",
    "\n",
    "# Get the arrays of features and labels in test dataset\n",
    "features_test = test.drop(['Class'],axis=1).values # Test with time removed as well\n",
    "labels_test = pd.DataFrame(test[[\"Class\"]]).values\n",
    "\n",
    "# # Normalize the features in both train and test dataset\n",
    "# features_train = normalize(features_train)\n",
    "# features_test = normalize(features_test)"
   ]
  },
  {
   "cell_type": "markdown",
   "metadata": {},
   "source": [
    "Model and Prediction"
   ]
  },
  {
   "cell_type": "code",
   "execution_count": 172,
   "metadata": {
    "ExecuteTime": {
     "end_time": "2020-03-26T10:50:51.233047Z",
     "start_time": "2020-03-26T10:50:48.493349Z"
    }
   },
   "outputs": [],
   "source": [
    "model = KMeans(n_clusters=2,random_state=0)\n",
    "model.fit(features_train)\n",
    "labels_train_predicted = model.predict(features_train)\n",
    "labels_test_predicted = model.predict(features_test)"
   ]
  },
  {
   "cell_type": "markdown",
   "metadata": {
    "ExecuteTime": {
     "end_time": "2020-03-26T09:26:45.657891Z",
     "start_time": "2020-03-26T09:26:45.648886Z"
    }
   },
   "source": [
    "Metrics"
   ]
  },
  {
   "cell_type": "code",
   "execution_count": 112,
   "metadata": {
    "ExecuteTime": {
     "end_time": "2020-03-26T09:24:55.368789Z",
     "start_time": "2020-03-26T09:24:55.219009Z"
    }
   },
   "outputs": [
    {
     "name": "stdout",
     "output_type": "stream",
     "text": [
      "Confusion Matrix:\n",
      " [[45843 39453]\n",
      " [   97    50]]\n",
      "kmeans_precison_score: 0.001265726653671873\n",
      "kmeans_recall_score: 0.3401360544217687\n",
      "kmeans_accuracy_score: 0.5371183127933242\n",
      "kmeans_f1_score: 0.0025220680958385876\n"
     ]
    }
   ],
   "source": [
    "# Calculating confusion matrix for kmeans\n",
    "print('Confusion Matrix:\\n',confusion_matrix(labels_test,labels_test_predicted))\n",
    "# Scoring kmeans\n",
    "print('kmeans_precison_score:', precision_score(labels_test,labels_test_predicted))\n",
    "print('kmeans_recall_score:', recall_score(labels_test,labels_test_predicted))\n",
    "print('kmeans_accuracy_score:', accuracy_score(labels_test,labels_test_predicted))\n",
    "print('kmeans_f1_score:',f1_score(labels_test,labels_test_predicted))"
   ]
  },
  {
   "cell_type": "markdown",
   "metadata": {},
   "source": [
    "## Anomaly detection\n",
    "\n",
    "Applied anomaly detection technique to identify unusual patterns that do not conform to expected behavior i.e  fraud detection in credit card transactions\n",
    "\n",
    "Point anomaly Detecting credit card fraud based on \"amount spent.\"\n",
    "\n",
    "The simplest approach to identifying irregularities in data is to flag the data points that deviate from common statistical properties of a distribution, including mean, median, mode, and quantiles.\n",
    "\n"
   ]
  },
  {
   "cell_type": "markdown",
   "metadata": {
    "ExecuteTime": {
     "end_time": "2020-03-26T10:38:47.368338Z",
     "start_time": "2020-03-26T10:38:47.365042Z"
    }
   },
   "source": [
    "Anomaly detection using Isolation Forest"
   ]
  },
  {
   "cell_type": "code",
   "execution_count": 176,
   "metadata": {
    "ExecuteTime": {
     "end_time": "2020-03-26T10:52:32.036783Z",
     "start_time": "2020-03-26T10:51:54.555475Z"
    }
   },
   "outputs": [],
   "source": [
    "# Determine Number Of Fraud Cases In DataSet\n",
    "outlier_fraction = len(Fraud) / float(len(Valid)) ## i.e 0.0017%\n",
    "\n",
    "#Create Isolation Forest Model\n",
    "clf = IsolationForest(max_samples = len(features_train),contamination = outlier_fraction,random_state = None)\n",
    "\n",
    "clf.fit(features_train)\n",
    "labels_test_predicted = clf.predict(features_test)"
   ]
  },
  {
   "cell_type": "code",
   "execution_count": 177,
   "metadata": {
    "ExecuteTime": {
     "end_time": "2020-03-26T10:53:54.634899Z",
     "start_time": "2020-03-26T10:53:54.628666Z"
    }
   },
   "outputs": [
    {
     "data": {
      "text/plain": [
       "array([-1,  1])"
      ]
     },
     "execution_count": 177,
     "metadata": {},
     "output_type": "execute_result"
    }
   ],
   "source": [
    "#Check the output. -1 is fraud, 1 is valid transaction\n",
    "np.unique(labels_test_predicted)"
   ]
  },
  {
   "cell_type": "code",
   "execution_count": 178,
   "metadata": {
    "ExecuteTime": {
     "end_time": "2020-03-26T10:53:56.438361Z",
     "start_time": "2020-03-26T10:53:56.433686Z"
    },
    "collapsed": true
   },
   "outputs": [],
   "source": [
    "# Reshape The Prediction Values To 0 For Valid and 1 For Fraud\n",
    "labels_test_predicted[labels_test_predicted == 1] = 0\n",
    "labels_test_predicted[labels_test_predicted == -1] = 1"
   ]
  },
  {
   "cell_type": "code",
   "execution_count": 179,
   "metadata": {
    "ExecuteTime": {
     "end_time": "2020-03-26T10:53:58.909731Z",
     "start_time": "2020-03-26T10:53:58.707438Z"
    }
   },
   "outputs": [
    {
     "name": "stdout",
     "output_type": "stream",
     "text": [
      "Correct:  88  Fraud 147\n",
      "0.5986394557823129\n"
     ]
    }
   ],
   "source": [
    "correct = 0\n",
    "# Determine Number Of Fraud Cases In Test DataSet\n",
    "df_labels_test = pd.DataFrame(labels_test, columns=[\"Class\"])\n",
    "Fraud = df_labels_test[df_labels_test['Class'] == 1]\n",
    "Valid = df_labels_test[df_labels_test['Class'] == 0]\n",
    "\n",
    "for i in range(len(labels_test)):\n",
    "    if pred_y[i] == labels_test[i] and labels_test_predicted[i] ==1:\n",
    "        correct += 1\n",
    "print(\"Correct: \", correct, \" Fraud\", len(Fraud))\n",
    "print(correct/len(Fraud))"
   ]
  },
  {
   "cell_type": "code",
   "execution_count": 180,
   "metadata": {
    "ExecuteTime": {
     "end_time": "2020-03-26T10:54:02.710175Z",
     "start_time": "2020-03-26T10:54:02.590129Z"
    }
   },
   "outputs": [
    {
     "name": "stdout",
     "output_type": "stream",
     "text": [
      "Confusion Matrix:\n",
      " [[85208    88]\n",
      " [   95    52]]\n",
      "             precision    recall  f1-score   support\n",
      "\n",
      "          0       1.00      1.00      1.00     85296\n",
      "          1       0.37      0.35      0.36       147\n",
      "\n",
      "avg / total       1.00      1.00      1.00     85443\n",
      "\n"
     ]
    }
   ],
   "source": [
    "# Calculating confusion matrix for kmeans\n",
    "print('Confusion Matrix:\\n',confusion_matrix(labels_test,labels_test_predicted))\n",
    "print(classification_report(labels_test, labels_test_predicted))"
   ]
  },
  {
   "cell_type": "markdown",
   "metadata": {
    "ExecuteTime": {
     "end_time": "2020-03-26T10:54:08.473236Z",
     "start_time": "2020-03-26T10:54:08.469775Z"
    }
   },
   "source": [
    "Isolation forest is able to identify 36% of the fraud transaction."
   ]
  },
  {
   "cell_type": "markdown",
   "metadata": {
    "collapsed": true
   },
   "source": [
    "## Conclusion"
   ]
  },
  {
   "cell_type": "markdown",
   "metadata": {
    "collapsed": true
   },
   "source": [
    "Objective was to predict 95% of all fraudulent transactions before they occur. Using unsupervised methods, we are able to predict 36% of the transactions. Therebeing, we propose exploring of both unsupervised and supervised methods in fraud identification"
   ]
  },
  {
   "cell_type": "markdown",
   "metadata": {},
   "source": [
    "## References\n",
    "\n",
    "https://www.kaggle.com/pavansanagapati/anomaly-detection-credit-card-fraud-analysis\n",
    "\n",
    "Kmeans , https://towardsdatascience.com/machine-learning-algorithms-part-9-k-means-example-in-python-f2ad05ed5203 , read on 18 Mar 2019."
   ]
  }
 ],
 "metadata": {
  "hide_input": false,
  "kernelspec": {
   "display_name": "Python 3",
   "language": "python",
   "name": "python3"
  },
  "language_info": {
   "codemirror_mode": {
    "name": "ipython",
    "version": 3
   },
   "file_extension": ".py",
   "mimetype": "text/x-python",
   "name": "python",
   "nbconvert_exporter": "python",
   "pygments_lexer": "ipython3",
   "version": "3.6.3"
  },
  "toc": {
   "base_numbering": 1,
   "nav_menu": {},
   "number_sections": true,
   "sideBar": true,
   "skip_h1_title": false,
   "title_cell": "Table of Contents",
   "title_sidebar": "Contents",
   "toc_cell": false,
   "toc_position": {},
   "toc_section_display": true,
   "toc_window_display": false
  }
 },
 "nbformat": 4,
 "nbformat_minor": 2
}
